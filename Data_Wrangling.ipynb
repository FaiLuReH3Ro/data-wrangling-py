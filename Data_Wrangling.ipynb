{
 "cells": [
  {
   "cell_type": "markdown",
   "id": "477c35ba",
   "metadata": {
    "papermill": {
     "duration": 0.011052,
     "end_time": "2025-09-01T21:56:30.149905",
     "exception": false,
     "start_time": "2025-09-01T21:56:30.138853",
     "status": "completed"
    },
    "tags": []
   },
   "source": [
    "# **Data Wrangling**"
   ]
  },
  {
   "cell_type": "markdown",
   "id": "b9085e2f",
   "metadata": {
    "papermill": {
     "duration": 0.007756,
     "end_time": "2025-09-01T21:56:30.167792",
     "exception": false,
     "start_time": "2025-09-01T21:56:30.160036",
     "status": "completed"
    },
    "tags": [],
    "vscode": {
     "languageId": "plaintext"
    }
   },
   "source": [
    "## Repository\n",
    "\n",
    "Check out the repository on [GitHub](https://github.com/FaiLuReH3Ro/data-wrangling-py) for more details.\n"
   ]
  },
  {
   "cell_type": "markdown",
   "id": "ac980dd6",
   "metadata": {
    "papermill": {
     "duration": 0.00683,
     "end_time": "2025-09-01T21:56:30.182361",
     "exception": false,
     "start_time": "2025-09-01T21:56:30.175531",
     "status": "completed"
    },
    "tags": []
   },
   "source": [
    "## Dataset Used\n",
    "\n",
    "[Stack Overflow Survey Data 2024 Subset](https://www.kaggle.com/datasets/failureh3ro/stack-overflow-survey-data-2024-subset/data)"
   ]
  },
  {
   "cell_type": "markdown",
   "id": "1b1f2a39",
   "metadata": {
    "papermill": {
     "duration": 0.006989,
     "end_time": "2025-09-01T21:56:30.198830",
     "exception": false,
     "start_time": "2025-09-01T21:56:30.191841",
     "status": "completed"
    },
    "tags": [],
    "vscode": {
     "languageId": "latex"
    }
   },
   "source": [
    "## Objectives\n",
    "\n",
    "* Identify duplicate rows in the dataset\n",
    "* Remove duplicate rows and verify the removal \n",
    "* Find columns with missing values\n",
    "* Impute the missing values\n",
    "* Perform Data Normalizing for certain columns"
   ]
  },
  {
   "cell_type": "markdown",
   "id": "1667df8b",
   "metadata": {
    "papermill": {
     "duration": 0.00658,
     "end_time": "2025-09-01T21:56:30.212285",
     "exception": false,
     "start_time": "2025-09-01T21:56:30.205705",
     "status": "completed"
    },
    "tags": []
   },
   "source": [
    "## Download and Import Libraries"
   ]
  },
  {
   "cell_type": "code",
   "execution_count": 1,
   "id": "ec16fa39",
   "metadata": {
    "execution": {
     "iopub.execute_input": "2025-09-01T21:56:30.229196Z",
     "iopub.status.busy": "2025-09-01T21:56:30.228860Z",
     "iopub.status.idle": "2025-09-01T21:56:30.235228Z",
     "shell.execute_reply": "2025-09-01T21:56:30.233998Z"
    },
    "papermill": {
     "duration": 0.016723,
     "end_time": "2025-09-01T21:56:30.237554",
     "exception": false,
     "start_time": "2025-09-01T21:56:30.220831",
     "status": "completed"
    },
    "tags": []
   },
   "outputs": [],
   "source": [
    "# Run this cell if the libraries are not installed yet\n",
    "# Uncomment the lines below to install\n",
    "# %pip install pandas\n",
    "# %pip install numpy"
   ]
  },
  {
   "cell_type": "code",
   "execution_count": 2,
   "id": "952a332d",
   "metadata": {
    "execution": {
     "iopub.execute_input": "2025-09-01T21:56:30.253565Z",
     "iopub.status.busy": "2025-09-01T21:56:30.253247Z",
     "iopub.status.idle": "2025-09-01T21:56:32.621227Z",
     "shell.execute_reply": "2025-09-01T21:56:32.619724Z"
    },
    "papermill": {
     "duration": 2.378343,
     "end_time": "2025-09-01T21:56:32.623408",
     "exception": false,
     "start_time": "2025-09-01T21:56:30.245065",
     "status": "completed"
    },
    "tags": []
   },
   "outputs": [],
   "source": [
    "# Importing the pandas and numpy libraries\n",
    "import pandas as pd\n",
    "import numpy as np\n",
    "\n",
    "# Suppress warnings\n",
    "# Comment before running to view warnings\n",
    "import warnings\n",
    "warnings.filterwarnings(\"ignore\")"
   ]
  },
  {
   "cell_type": "markdown",
   "id": "77130800",
   "metadata": {
    "papermill": {
     "duration": 0.007661,
     "end_time": "2025-09-01T21:56:32.639697",
     "exception": false,
     "start_time": "2025-09-01T21:56:32.632036",
     "status": "completed"
    },
    "tags": []
   },
   "source": [
    "## Loading the Data"
   ]
  },
  {
   "cell_type": "code",
   "execution_count": 3,
   "id": "b9e19a42",
   "metadata": {
    "execution": {
     "iopub.execute_input": "2025-09-01T21:56:32.658386Z",
     "iopub.status.busy": "2025-09-01T21:56:32.657876Z",
     "iopub.status.idle": "2025-09-01T21:56:38.713015Z",
     "shell.execute_reply": "2025-09-01T21:56:38.711802Z"
    },
    "papermill": {
     "duration": 6.066984,
     "end_time": "2025-09-01T21:56:38.715759",
     "exception": false,
     "start_time": "2025-09-01T21:56:32.648775",
     "status": "completed"
    },
    "tags": []
   },
   "outputs": [
    {
     "data": {
      "text/html": [
       "<div>\n",
       "<style scoped>\n",
       "    .dataframe tbody tr th:only-of-type {\n",
       "        vertical-align: middle;\n",
       "    }\n",
       "\n",
       "    .dataframe tbody tr th {\n",
       "        vertical-align: top;\n",
       "    }\n",
       "\n",
       "    .dataframe thead th {\n",
       "        text-align: right;\n",
       "    }\n",
       "</style>\n",
       "<table border=\"1\" class=\"dataframe\">\n",
       "  <thead>\n",
       "    <tr style=\"text-align: right;\">\n",
       "      <th></th>\n",
       "      <th>ResponseId</th>\n",
       "      <th>MainBranch</th>\n",
       "      <th>Age</th>\n",
       "      <th>Employment</th>\n",
       "      <th>RemoteWork</th>\n",
       "      <th>Check</th>\n",
       "      <th>CodingActivities</th>\n",
       "      <th>EdLevel</th>\n",
       "      <th>LearnCode</th>\n",
       "      <th>LearnCodeOnline</th>\n",
       "      <th>TechDoc</th>\n",
       "      <th>YearsCode</th>\n",
       "      <th>YearsCodePro</th>\n",
       "      <th>DevType</th>\n",
       "      <th>OrgSize</th>\n",
       "      <th>PurchaseInfluence</th>\n",
       "      <th>BuyNewTool</th>\n",
       "      <th>BuildvsBuy</th>\n",
       "      <th>TechEndorse</th>\n",
       "      <th>Country</th>\n",
       "      <th>Currency</th>\n",
       "      <th>CompTotal</th>\n",
       "      <th>LanguageHaveWorkedWith</th>\n",
       "      <th>LanguageWantToWorkWith</th>\n",
       "      <th>LanguageAdmired</th>\n",
       "      <th>DatabaseHaveWorkedWith</th>\n",
       "      <th>DatabaseWantToWorkWith</th>\n",
       "      <th>DatabaseAdmired</th>\n",
       "      <th>PlatformHaveWorkedWith</th>\n",
       "      <th>PlatformWantToWorkWith</th>\n",
       "      <th>PlatformAdmired</th>\n",
       "      <th>WebframeHaveWorkedWith</th>\n",
       "      <th>WebframeWantToWorkWith</th>\n",
       "      <th>WebframeAdmired</th>\n",
       "      <th>EmbeddedHaveWorkedWith</th>\n",
       "      <th>EmbeddedWantToWorkWith</th>\n",
       "      <th>EmbeddedAdmired</th>\n",
       "      <th>MiscTechHaveWorkedWith</th>\n",
       "      <th>MiscTechWantToWorkWith</th>\n",
       "      <th>MiscTechAdmired</th>\n",
       "      <th>ToolsTechHaveWorkedWith</th>\n",
       "      <th>ToolsTechWantToWorkWith</th>\n",
       "      <th>ToolsTechAdmired</th>\n",
       "      <th>NEWCollabToolsHaveWorkedWith</th>\n",
       "      <th>NEWCollabToolsWantToWorkWith</th>\n",
       "      <th>NEWCollabToolsAdmired</th>\n",
       "      <th>OpSysPersonal use</th>\n",
       "      <th>OpSysProfessional use</th>\n",
       "      <th>OfficeStackAsyncHaveWorkedWith</th>\n",
       "      <th>OfficeStackAsyncWantToWorkWith</th>\n",
       "      <th>OfficeStackAsyncAdmired</th>\n",
       "      <th>OfficeStackSyncHaveWorkedWith</th>\n",
       "      <th>OfficeStackSyncWantToWorkWith</th>\n",
       "      <th>OfficeStackSyncAdmired</th>\n",
       "      <th>AISearchDevHaveWorkedWith</th>\n",
       "      <th>AISearchDevWantToWorkWith</th>\n",
       "      <th>AISearchDevAdmired</th>\n",
       "      <th>NEWSOSites</th>\n",
       "      <th>SOVisitFreq</th>\n",
       "      <th>SOAccount</th>\n",
       "      <th>SOPartFreq</th>\n",
       "      <th>SOHow</th>\n",
       "      <th>SOComm</th>\n",
       "      <th>AISelect</th>\n",
       "      <th>AISent</th>\n",
       "      <th>AIBen</th>\n",
       "      <th>AIAcc</th>\n",
       "      <th>AIComplex</th>\n",
       "      <th>AIToolCurrently Using</th>\n",
       "      <th>AIToolInterested in Using</th>\n",
       "      <th>AIToolNot interested in Using</th>\n",
       "      <th>AINextMuch more integrated</th>\n",
       "      <th>AINextNo change</th>\n",
       "      <th>AINextMore integrated</th>\n",
       "      <th>AINextLess integrated</th>\n",
       "      <th>AINextMuch less integrated</th>\n",
       "      <th>AIThreat</th>\n",
       "      <th>AIEthics</th>\n",
       "      <th>AIChallenges</th>\n",
       "      <th>TBranch</th>\n",
       "      <th>ICorPM</th>\n",
       "      <th>WorkExp</th>\n",
       "      <th>Knowledge_1</th>\n",
       "      <th>Knowledge_2</th>\n",
       "      <th>Knowledge_3</th>\n",
       "      <th>Knowledge_4</th>\n",
       "      <th>Knowledge_5</th>\n",
       "      <th>Knowledge_6</th>\n",
       "      <th>Knowledge_7</th>\n",
       "      <th>Knowledge_8</th>\n",
       "      <th>Knowledge_9</th>\n",
       "      <th>Frequency_1</th>\n",
       "      <th>Frequency_2</th>\n",
       "      <th>Frequency_3</th>\n",
       "      <th>TimeSearching</th>\n",
       "      <th>TimeAnswering</th>\n",
       "      <th>Frustration</th>\n",
       "      <th>ProfessionalTech</th>\n",
       "      <th>ProfessionalCloud</th>\n",
       "      <th>ProfessionalQuestion</th>\n",
       "      <th>Industry</th>\n",
       "      <th>JobSatPoints_1</th>\n",
       "      <th>JobSatPoints_4</th>\n",
       "      <th>JobSatPoints_5</th>\n",
       "      <th>JobSatPoints_6</th>\n",
       "      <th>JobSatPoints_7</th>\n",
       "      <th>JobSatPoints_8</th>\n",
       "      <th>JobSatPoints_9</th>\n",
       "      <th>JobSatPoints_10</th>\n",
       "      <th>JobSatPoints_11</th>\n",
       "      <th>SurveyLength</th>\n",
       "      <th>SurveyEase</th>\n",
       "      <th>ConvertedCompYearly</th>\n",
       "      <th>JobSat</th>\n",
       "    </tr>\n",
       "  </thead>\n",
       "  <tbody>\n",
       "    <tr>\n",
       "      <th>0</th>\n",
       "      <td>1</td>\n",
       "      <td>I am a developer by profession</td>\n",
       "      <td>Under 18 years old</td>\n",
       "      <td>Employed, full-time</td>\n",
       "      <td>Remote</td>\n",
       "      <td>Apples</td>\n",
       "      <td>Hobby</td>\n",
       "      <td>Primary/elementary school</td>\n",
       "      <td>Books / Physical media</td>\n",
       "      <td>NaN</td>\n",
       "      <td>NaN</td>\n",
       "      <td>NaN</td>\n",
       "      <td>NaN</td>\n",
       "      <td>NaN</td>\n",
       "      <td>NaN</td>\n",
       "      <td>NaN</td>\n",
       "      <td>NaN</td>\n",
       "      <td>NaN</td>\n",
       "      <td>NaN</td>\n",
       "      <td>United States of America</td>\n",
       "      <td>NaN</td>\n",
       "      <td>NaN</td>\n",
       "      <td>NaN</td>\n",
       "      <td>NaN</td>\n",
       "      <td>NaN</td>\n",
       "      <td>NaN</td>\n",
       "      <td>NaN</td>\n",
       "      <td>NaN</td>\n",
       "      <td>NaN</td>\n",
       "      <td>NaN</td>\n",
       "      <td>NaN</td>\n",
       "      <td>NaN</td>\n",
       "      <td>NaN</td>\n",
       "      <td>NaN</td>\n",
       "      <td>NaN</td>\n",
       "      <td>NaN</td>\n",
       "      <td>NaN</td>\n",
       "      <td>NaN</td>\n",
       "      <td>NaN</td>\n",
       "      <td>NaN</td>\n",
       "      <td>NaN</td>\n",
       "      <td>NaN</td>\n",
       "      <td>NaN</td>\n",
       "      <td>NaN</td>\n",
       "      <td>NaN</td>\n",
       "      <td>NaN</td>\n",
       "      <td>NaN</td>\n",
       "      <td>NaN</td>\n",
       "      <td>NaN</td>\n",
       "      <td>NaN</td>\n",
       "      <td>NaN</td>\n",
       "      <td>NaN</td>\n",
       "      <td>NaN</td>\n",
       "      <td>NaN</td>\n",
       "      <td>NaN</td>\n",
       "      <td>NaN</td>\n",
       "      <td>NaN</td>\n",
       "      <td>I have never visited Stack Overflow or the Sta...</td>\n",
       "      <td>NaN</td>\n",
       "      <td>NaN</td>\n",
       "      <td>NaN</td>\n",
       "      <td>NaN</td>\n",
       "      <td>NaN</td>\n",
       "      <td>Yes</td>\n",
       "      <td>Very favorable</td>\n",
       "      <td>Increase productivity</td>\n",
       "      <td>NaN</td>\n",
       "      <td>NaN</td>\n",
       "      <td>NaN</td>\n",
       "      <td>NaN</td>\n",
       "      <td>NaN</td>\n",
       "      <td>NaN</td>\n",
       "      <td>NaN</td>\n",
       "      <td>NaN</td>\n",
       "      <td>NaN</td>\n",
       "      <td>NaN</td>\n",
       "      <td>NaN</td>\n",
       "      <td>NaN</td>\n",
       "      <td>NaN</td>\n",
       "      <td>No</td>\n",
       "      <td>NaN</td>\n",
       "      <td>NaN</td>\n",
       "      <td>NaN</td>\n",
       "      <td>NaN</td>\n",
       "      <td>NaN</td>\n",
       "      <td>NaN</td>\n",
       "      <td>NaN</td>\n",
       "      <td>NaN</td>\n",
       "      <td>NaN</td>\n",
       "      <td>NaN</td>\n",
       "      <td>NaN</td>\n",
       "      <td>NaN</td>\n",
       "      <td>NaN</td>\n",
       "      <td>NaN</td>\n",
       "      <td>NaN</td>\n",
       "      <td>NaN</td>\n",
       "      <td>NaN</td>\n",
       "      <td>NaN</td>\n",
       "      <td>NaN</td>\n",
       "      <td>NaN</td>\n",
       "      <td>NaN</td>\n",
       "      <td>NaN</td>\n",
       "      <td>NaN</td>\n",
       "      <td>NaN</td>\n",
       "      <td>NaN</td>\n",
       "      <td>NaN</td>\n",
       "      <td>NaN</td>\n",
       "      <td>NaN</td>\n",
       "      <td>NaN</td>\n",
       "      <td>NaN</td>\n",
       "      <td>NaN</td>\n",
       "      <td>NaN</td>\n",
       "      <td>NaN</td>\n",
       "      <td>NaN</td>\n",
       "    </tr>\n",
       "    <tr>\n",
       "      <th>1</th>\n",
       "      <td>2</td>\n",
       "      <td>I am a developer by profession</td>\n",
       "      <td>35-44 years old</td>\n",
       "      <td>Employed, full-time</td>\n",
       "      <td>Remote</td>\n",
       "      <td>Apples</td>\n",
       "      <td>Hobby;Contribute to open-source projects;Other...</td>\n",
       "      <td>Bachelor’s degree (B.A., B.S., B.Eng., etc.)</td>\n",
       "      <td>Books / Physical media;Colleague;On the job tr...</td>\n",
       "      <td>Technical documentation;Blogs;Books;Written Tu...</td>\n",
       "      <td>API document(s) and/or SDK document(s);User gu...</td>\n",
       "      <td>20</td>\n",
       "      <td>17</td>\n",
       "      <td>Developer, full-stack</td>\n",
       "      <td>NaN</td>\n",
       "      <td>NaN</td>\n",
       "      <td>NaN</td>\n",
       "      <td>NaN</td>\n",
       "      <td>NaN</td>\n",
       "      <td>United Kingdom of Great Britain and Northern I...</td>\n",
       "      <td>NaN</td>\n",
       "      <td>NaN</td>\n",
       "      <td>Bash/Shell (all shells);Go;HTML/CSS;Java;JavaS...</td>\n",
       "      <td>Bash/Shell (all shells);Go;HTML/CSS;Java;JavaS...</td>\n",
       "      <td>Bash/Shell (all shells);Go;HTML/CSS;Java;JavaS...</td>\n",
       "      <td>Dynamodb;MongoDB;PostgreSQL</td>\n",
       "      <td>PostgreSQL</td>\n",
       "      <td>PostgreSQL</td>\n",
       "      <td>Amazon Web Services (AWS);Heroku;Netlify</td>\n",
       "      <td>Amazon Web Services (AWS);Heroku;Netlify</td>\n",
       "      <td>Amazon Web Services (AWS);Heroku;Netlify</td>\n",
       "      <td>Express;Next.js;Node.js;React</td>\n",
       "      <td>Express;Htmx;Node.js;React;Remix</td>\n",
       "      <td>Express;Node.js;React</td>\n",
       "      <td>NaN</td>\n",
       "      <td>NaN</td>\n",
       "      <td>NaN</td>\n",
       "      <td>NaN</td>\n",
       "      <td>NaN</td>\n",
       "      <td>NaN</td>\n",
       "      <td>Docker;Homebrew;Kubernetes;npm;Vite;Webpack</td>\n",
       "      <td>Docker;Homebrew;Kubernetes;npm;Vite;Webpack</td>\n",
       "      <td>Docker;Homebrew;Kubernetes;npm;Vite;Webpack</td>\n",
       "      <td>PyCharm;Visual Studio Code;WebStorm</td>\n",
       "      <td>PyCharm;Visual Studio Code;WebStorm</td>\n",
       "      <td>PyCharm;Visual Studio Code;WebStorm</td>\n",
       "      <td>MacOS;Windows</td>\n",
       "      <td>MacOS</td>\n",
       "      <td>NaN</td>\n",
       "      <td>NaN</td>\n",
       "      <td>NaN</td>\n",
       "      <td>Microsoft Teams;Slack</td>\n",
       "      <td>Slack</td>\n",
       "      <td>Slack</td>\n",
       "      <td>NaN</td>\n",
       "      <td>NaN</td>\n",
       "      <td>NaN</td>\n",
       "      <td>Stack Overflow for Teams (private knowledge sh...</td>\n",
       "      <td>Multiple times per day</td>\n",
       "      <td>Yes</td>\n",
       "      <td>Multiple times per day</td>\n",
       "      <td>Quickly finding code solutions;Finding reliabl...</td>\n",
       "      <td>Yes, definitely</td>\n",
       "      <td>No, and I don't plan to</td>\n",
       "      <td>NaN</td>\n",
       "      <td>NaN</td>\n",
       "      <td>NaN</td>\n",
       "      <td>NaN</td>\n",
       "      <td>NaN</td>\n",
       "      <td>NaN</td>\n",
       "      <td>NaN</td>\n",
       "      <td>NaN</td>\n",
       "      <td>NaN</td>\n",
       "      <td>NaN</td>\n",
       "      <td>NaN</td>\n",
       "      <td>NaN</td>\n",
       "      <td>NaN</td>\n",
       "      <td>NaN</td>\n",
       "      <td>NaN</td>\n",
       "      <td>Yes</td>\n",
       "      <td>Individual contributor</td>\n",
       "      <td>17.0</td>\n",
       "      <td>Agree</td>\n",
       "      <td>Disagree</td>\n",
       "      <td>Agree</td>\n",
       "      <td>Agree</td>\n",
       "      <td>Agree</td>\n",
       "      <td>Neither agree nor disagree</td>\n",
       "      <td>Disagree</td>\n",
       "      <td>Agree</td>\n",
       "      <td>Agree</td>\n",
       "      <td>NaN</td>\n",
       "      <td>NaN</td>\n",
       "      <td>NaN</td>\n",
       "      <td>NaN</td>\n",
       "      <td>NaN</td>\n",
       "      <td>NaN</td>\n",
       "      <td>NaN</td>\n",
       "      <td>NaN</td>\n",
       "      <td>NaN</td>\n",
       "      <td>NaN</td>\n",
       "      <td>0.0</td>\n",
       "      <td>0.0</td>\n",
       "      <td>0.0</td>\n",
       "      <td>0.0</td>\n",
       "      <td>0.0</td>\n",
       "      <td>0.0</td>\n",
       "      <td>0.0</td>\n",
       "      <td>0.0</td>\n",
       "      <td>0.0</td>\n",
       "      <td>NaN</td>\n",
       "      <td>NaN</td>\n",
       "      <td>NaN</td>\n",
       "      <td>NaN</td>\n",
       "    </tr>\n",
       "    <tr>\n",
       "      <th>2</th>\n",
       "      <td>3</td>\n",
       "      <td>I am a developer by profession</td>\n",
       "      <td>45-54 years old</td>\n",
       "      <td>Employed, full-time</td>\n",
       "      <td>Remote</td>\n",
       "      <td>Apples</td>\n",
       "      <td>Hobby;Contribute to open-source projects;Other...</td>\n",
       "      <td>Master’s degree (M.A., M.S., M.Eng., MBA, etc.)</td>\n",
       "      <td>Books / Physical media;Colleague;On the job tr...</td>\n",
       "      <td>Technical documentation;Blogs;Books;Written Tu...</td>\n",
       "      <td>API document(s) and/or SDK document(s);User gu...</td>\n",
       "      <td>37</td>\n",
       "      <td>27</td>\n",
       "      <td>Developer Experience</td>\n",
       "      <td>NaN</td>\n",
       "      <td>NaN</td>\n",
       "      <td>NaN</td>\n",
       "      <td>NaN</td>\n",
       "      <td>NaN</td>\n",
       "      <td>United Kingdom of Great Britain and Northern I...</td>\n",
       "      <td>NaN</td>\n",
       "      <td>NaN</td>\n",
       "      <td>C#</td>\n",
       "      <td>C#</td>\n",
       "      <td>C#</td>\n",
       "      <td>Firebase Realtime Database</td>\n",
       "      <td>Firebase Realtime Database</td>\n",
       "      <td>Firebase Realtime Database</td>\n",
       "      <td>Google Cloud</td>\n",
       "      <td>Google Cloud</td>\n",
       "      <td>Google Cloud</td>\n",
       "      <td>ASP.NET CORE</td>\n",
       "      <td>ASP.NET CORE</td>\n",
       "      <td>ASP.NET CORE</td>\n",
       "      <td>Rasberry Pi</td>\n",
       "      <td>Rasberry Pi</td>\n",
       "      <td>Rasberry Pi</td>\n",
       "      <td>.NET (5+) ;.NET Framework (1.0 - 4.8);.NET MAUI</td>\n",
       "      <td>.NET (5+) ;.NET Framework (1.0 - 4.8);.NET MAUI</td>\n",
       "      <td>.NET (5+) ;.NET Framework (1.0 - 4.8);.NET MAUI</td>\n",
       "      <td>MSBuild</td>\n",
       "      <td>MSBuild</td>\n",
       "      <td>MSBuild</td>\n",
       "      <td>Visual Studio</td>\n",
       "      <td>Visual Studio</td>\n",
       "      <td>Visual Studio</td>\n",
       "      <td>Windows</td>\n",
       "      <td>Windows</td>\n",
       "      <td>NaN</td>\n",
       "      <td>NaN</td>\n",
       "      <td>NaN</td>\n",
       "      <td>Google Chat;Google Meet;Microsoft Teams;Zoom</td>\n",
       "      <td>Google Chat;Google Meet;Zoom</td>\n",
       "      <td>Google Chat;Google Meet;Zoom</td>\n",
       "      <td>NaN</td>\n",
       "      <td>NaN</td>\n",
       "      <td>NaN</td>\n",
       "      <td>Stack Overflow;Stack Exchange;Stack Overflow B...</td>\n",
       "      <td>Multiple times per day</td>\n",
       "      <td>Yes</td>\n",
       "      <td>Multiple times per day</td>\n",
       "      <td>Quickly finding code solutions;Finding reliabl...</td>\n",
       "      <td>Yes, definitely</td>\n",
       "      <td>No, and I don't plan to</td>\n",
       "      <td>NaN</td>\n",
       "      <td>NaN</td>\n",
       "      <td>NaN</td>\n",
       "      <td>NaN</td>\n",
       "      <td>NaN</td>\n",
       "      <td>NaN</td>\n",
       "      <td>NaN</td>\n",
       "      <td>NaN</td>\n",
       "      <td>NaN</td>\n",
       "      <td>NaN</td>\n",
       "      <td>NaN</td>\n",
       "      <td>NaN</td>\n",
       "      <td>NaN</td>\n",
       "      <td>NaN</td>\n",
       "      <td>NaN</td>\n",
       "      <td>No</td>\n",
       "      <td>NaN</td>\n",
       "      <td>NaN</td>\n",
       "      <td>NaN</td>\n",
       "      <td>NaN</td>\n",
       "      <td>NaN</td>\n",
       "      <td>NaN</td>\n",
       "      <td>NaN</td>\n",
       "      <td>NaN</td>\n",
       "      <td>NaN</td>\n",
       "      <td>NaN</td>\n",
       "      <td>NaN</td>\n",
       "      <td>NaN</td>\n",
       "      <td>NaN</td>\n",
       "      <td>NaN</td>\n",
       "      <td>NaN</td>\n",
       "      <td>NaN</td>\n",
       "      <td>NaN</td>\n",
       "      <td>NaN</td>\n",
       "      <td>NaN</td>\n",
       "      <td>NaN</td>\n",
       "      <td>NaN</td>\n",
       "      <td>NaN</td>\n",
       "      <td>NaN</td>\n",
       "      <td>NaN</td>\n",
       "      <td>NaN</td>\n",
       "      <td>NaN</td>\n",
       "      <td>NaN</td>\n",
       "      <td>NaN</td>\n",
       "      <td>NaN</td>\n",
       "      <td>NaN</td>\n",
       "      <td>Appropriate in length</td>\n",
       "      <td>Easy</td>\n",
       "      <td>NaN</td>\n",
       "      <td>NaN</td>\n",
       "    </tr>\n",
       "    <tr>\n",
       "      <th>3</th>\n",
       "      <td>4</td>\n",
       "      <td>I am learning to code</td>\n",
       "      <td>18-24 years old</td>\n",
       "      <td>Student, full-time</td>\n",
       "      <td>NaN</td>\n",
       "      <td>Apples</td>\n",
       "      <td>NaN</td>\n",
       "      <td>Some college/university study without earning ...</td>\n",
       "      <td>Other online resources (e.g., videos, blogs, f...</td>\n",
       "      <td>Stack Overflow;How-to videos;Interactive tutorial</td>\n",
       "      <td>NaN</td>\n",
       "      <td>4</td>\n",
       "      <td>NaN</td>\n",
       "      <td>Developer, full-stack</td>\n",
       "      <td>NaN</td>\n",
       "      <td>NaN</td>\n",
       "      <td>NaN</td>\n",
       "      <td>NaN</td>\n",
       "      <td>NaN</td>\n",
       "      <td>Canada</td>\n",
       "      <td>NaN</td>\n",
       "      <td>NaN</td>\n",
       "      <td>C;C++;HTML/CSS;Java;JavaScript;PHP;PowerShell;...</td>\n",
       "      <td>HTML/CSS;Java;JavaScript;PowerShell;Python;SQL...</td>\n",
       "      <td>HTML/CSS;Java;JavaScript;PowerShell;Python;SQL...</td>\n",
       "      <td>MongoDB;MySQL;PostgreSQL;SQLite</td>\n",
       "      <td>MongoDB;MySQL;PostgreSQL</td>\n",
       "      <td>MongoDB;MySQL;PostgreSQL</td>\n",
       "      <td>Amazon Web Services (AWS);Fly.io;Heroku</td>\n",
       "      <td>Amazon Web Services (AWS);Vercel</td>\n",
       "      <td>Amazon Web Services (AWS)</td>\n",
       "      <td>jQuery;Next.js;Node.js;React;WordPress</td>\n",
       "      <td>jQuery;Next.js;Node.js;React</td>\n",
       "      <td>jQuery;Next.js;Node.js;React</td>\n",
       "      <td>Rasberry Pi</td>\n",
       "      <td>NaN</td>\n",
       "      <td>NaN</td>\n",
       "      <td>NumPy;Pandas;Ruff;TensorFlow</td>\n",
       "      <td>NaN</td>\n",
       "      <td>NaN</td>\n",
       "      <td>Docker;npm;Pip</td>\n",
       "      <td>Docker;Kubernetes;npm</td>\n",
       "      <td>Docker;npm</td>\n",
       "      <td>NaN</td>\n",
       "      <td>NaN</td>\n",
       "      <td>NaN</td>\n",
       "      <td>NaN</td>\n",
       "      <td>NaN</td>\n",
       "      <td>NaN</td>\n",
       "      <td>NaN</td>\n",
       "      <td>NaN</td>\n",
       "      <td>NaN</td>\n",
       "      <td>NaN</td>\n",
       "      <td>NaN</td>\n",
       "      <td>NaN</td>\n",
       "      <td>NaN</td>\n",
       "      <td>NaN</td>\n",
       "      <td>Stack Overflow</td>\n",
       "      <td>Daily or almost daily</td>\n",
       "      <td>No</td>\n",
       "      <td>NaN</td>\n",
       "      <td>Quickly finding code solutions</td>\n",
       "      <td>No, not really</td>\n",
       "      <td>Yes</td>\n",
       "      <td>Very favorable</td>\n",
       "      <td>Increase productivity;Greater efficiency;Impro...</td>\n",
       "      <td>Somewhat trust</td>\n",
       "      <td>Bad at handling complex tasks</td>\n",
       "      <td>Learning about a codebase;Project planning;Wri...</td>\n",
       "      <td>Testing code;Committing and reviewing code;Pre...</td>\n",
       "      <td>NaN</td>\n",
       "      <td>Learning about a codebase;Project planning;Wri...</td>\n",
       "      <td>NaN</td>\n",
       "      <td>NaN</td>\n",
       "      <td>NaN</td>\n",
       "      <td>NaN</td>\n",
       "      <td>No</td>\n",
       "      <td>Circulating misinformation or disinformation;M...</td>\n",
       "      <td>Don’t trust the output or answers</td>\n",
       "      <td>NaN</td>\n",
       "      <td>NaN</td>\n",
       "      <td>NaN</td>\n",
       "      <td>NaN</td>\n",
       "      <td>NaN</td>\n",
       "      <td>NaN</td>\n",
       "      <td>NaN</td>\n",
       "      <td>NaN</td>\n",
       "      <td>NaN</td>\n",
       "      <td>NaN</td>\n",
       "      <td>NaN</td>\n",
       "      <td>NaN</td>\n",
       "      <td>NaN</td>\n",
       "      <td>NaN</td>\n",
       "      <td>NaN</td>\n",
       "      <td>NaN</td>\n",
       "      <td>NaN</td>\n",
       "      <td>NaN</td>\n",
       "      <td>NaN</td>\n",
       "      <td>NaN</td>\n",
       "      <td>NaN</td>\n",
       "      <td>NaN</td>\n",
       "      <td>NaN</td>\n",
       "      <td>NaN</td>\n",
       "      <td>NaN</td>\n",
       "      <td>NaN</td>\n",
       "      <td>NaN</td>\n",
       "      <td>NaN</td>\n",
       "      <td>NaN</td>\n",
       "      <td>NaN</td>\n",
       "      <td>NaN</td>\n",
       "      <td>Too long</td>\n",
       "      <td>Easy</td>\n",
       "      <td>NaN</td>\n",
       "      <td>NaN</td>\n",
       "    </tr>\n",
       "    <tr>\n",
       "      <th>4</th>\n",
       "      <td>5</td>\n",
       "      <td>I am a developer by profession</td>\n",
       "      <td>18-24 years old</td>\n",
       "      <td>Student, full-time</td>\n",
       "      <td>NaN</td>\n",
       "      <td>Apples</td>\n",
       "      <td>NaN</td>\n",
       "      <td>Secondary school (e.g. American high school, G...</td>\n",
       "      <td>Other online resources (e.g., videos, blogs, f...</td>\n",
       "      <td>Technical documentation;Blogs;Written Tutorial...</td>\n",
       "      <td>API document(s) and/or SDK document(s);User gu...</td>\n",
       "      <td>9</td>\n",
       "      <td>NaN</td>\n",
       "      <td>Developer, full-stack</td>\n",
       "      <td>NaN</td>\n",
       "      <td>NaN</td>\n",
       "      <td>NaN</td>\n",
       "      <td>NaN</td>\n",
       "      <td>NaN</td>\n",
       "      <td>Norway</td>\n",
       "      <td>NaN</td>\n",
       "      <td>NaN</td>\n",
       "      <td>C++;HTML/CSS;JavaScript;Lua;Python;Rust</td>\n",
       "      <td>C++;HTML/CSS;JavaScript;Lua;Python</td>\n",
       "      <td>C++;HTML/CSS;JavaScript;Lua;Python</td>\n",
       "      <td>PostgreSQL;SQLite</td>\n",
       "      <td>PostgreSQL;SQLite</td>\n",
       "      <td>PostgreSQL;SQLite</td>\n",
       "      <td>NaN</td>\n",
       "      <td>NaN</td>\n",
       "      <td>NaN</td>\n",
       "      <td>NaN</td>\n",
       "      <td>NaN</td>\n",
       "      <td>NaN</td>\n",
       "      <td>CMake;Cargo;Rasberry Pi</td>\n",
       "      <td>CMake;Rasberry Pi</td>\n",
       "      <td>CMake;Rasberry Pi</td>\n",
       "      <td>NaN</td>\n",
       "      <td>NaN</td>\n",
       "      <td>NaN</td>\n",
       "      <td>APT;Make;npm</td>\n",
       "      <td>APT;Make</td>\n",
       "      <td>APT;Make</td>\n",
       "      <td>Vim</td>\n",
       "      <td>Vim</td>\n",
       "      <td>Vim</td>\n",
       "      <td>Other (please specify):</td>\n",
       "      <td>NaN</td>\n",
       "      <td>GitHub Discussions;Markdown File;Obsidian;Stac...</td>\n",
       "      <td>GitHub Discussions;Markdown File;Obsidian</td>\n",
       "      <td>GitHub Discussions;Markdown File;Obsidian</td>\n",
       "      <td>Discord;Whatsapp</td>\n",
       "      <td>Discord;Whatsapp</td>\n",
       "      <td>Discord;Whatsapp</td>\n",
       "      <td>NaN</td>\n",
       "      <td>NaN</td>\n",
       "      <td>NaN</td>\n",
       "      <td>Stack Overflow for Teams (private knowledge sh...</td>\n",
       "      <td>Multiple times per day</td>\n",
       "      <td>Yes</td>\n",
       "      <td>Multiple times per day</td>\n",
       "      <td>Quickly finding code solutions;Engage with com...</td>\n",
       "      <td>Yes, definitely</td>\n",
       "      <td>No, and I don't plan to</td>\n",
       "      <td>NaN</td>\n",
       "      <td>NaN</td>\n",
       "      <td>NaN</td>\n",
       "      <td>NaN</td>\n",
       "      <td>NaN</td>\n",
       "      <td>NaN</td>\n",
       "      <td>NaN</td>\n",
       "      <td>NaN</td>\n",
       "      <td>NaN</td>\n",
       "      <td>NaN</td>\n",
       "      <td>NaN</td>\n",
       "      <td>NaN</td>\n",
       "      <td>NaN</td>\n",
       "      <td>NaN</td>\n",
       "      <td>NaN</td>\n",
       "      <td>NaN</td>\n",
       "      <td>NaN</td>\n",
       "      <td>NaN</td>\n",
       "      <td>NaN</td>\n",
       "      <td>NaN</td>\n",
       "      <td>NaN</td>\n",
       "      <td>NaN</td>\n",
       "      <td>NaN</td>\n",
       "      <td>NaN</td>\n",
       "      <td>NaN</td>\n",
       "      <td>NaN</td>\n",
       "      <td>NaN</td>\n",
       "      <td>NaN</td>\n",
       "      <td>NaN</td>\n",
       "      <td>NaN</td>\n",
       "      <td>NaN</td>\n",
       "      <td>NaN</td>\n",
       "      <td>NaN</td>\n",
       "      <td>NaN</td>\n",
       "      <td>NaN</td>\n",
       "      <td>NaN</td>\n",
       "      <td>NaN</td>\n",
       "      <td>NaN</td>\n",
       "      <td>NaN</td>\n",
       "      <td>NaN</td>\n",
       "      <td>NaN</td>\n",
       "      <td>NaN</td>\n",
       "      <td>NaN</td>\n",
       "      <td>NaN</td>\n",
       "      <td>NaN</td>\n",
       "      <td>NaN</td>\n",
       "      <td>Too short</td>\n",
       "      <td>Easy</td>\n",
       "      <td>NaN</td>\n",
       "      <td>NaN</td>\n",
       "    </tr>\n",
       "  </tbody>\n",
       "</table>\n",
       "</div>"
      ],
      "text/plain": [
       "   ResponseId                      MainBranch                 Age  \\\n",
       "0           1  I am a developer by profession  Under 18 years old   \n",
       "1           2  I am a developer by profession     35-44 years old   \n",
       "2           3  I am a developer by profession     45-54 years old   \n",
       "3           4           I am learning to code     18-24 years old   \n",
       "4           5  I am a developer by profession     18-24 years old   \n",
       "\n",
       "            Employment RemoteWork   Check  \\\n",
       "0  Employed, full-time     Remote  Apples   \n",
       "1  Employed, full-time     Remote  Apples   \n",
       "2  Employed, full-time     Remote  Apples   \n",
       "3   Student, full-time        NaN  Apples   \n",
       "4   Student, full-time        NaN  Apples   \n",
       "\n",
       "                                    CodingActivities  \\\n",
       "0                                              Hobby   \n",
       "1  Hobby;Contribute to open-source projects;Other...   \n",
       "2  Hobby;Contribute to open-source projects;Other...   \n",
       "3                                                NaN   \n",
       "4                                                NaN   \n",
       "\n",
       "                                             EdLevel  \\\n",
       "0                          Primary/elementary school   \n",
       "1       Bachelor’s degree (B.A., B.S., B.Eng., etc.)   \n",
       "2    Master’s degree (M.A., M.S., M.Eng., MBA, etc.)   \n",
       "3  Some college/university study without earning ...   \n",
       "4  Secondary school (e.g. American high school, G...   \n",
       "\n",
       "                                           LearnCode  \\\n",
       "0                             Books / Physical media   \n",
       "1  Books / Physical media;Colleague;On the job tr...   \n",
       "2  Books / Physical media;Colleague;On the job tr...   \n",
       "3  Other online resources (e.g., videos, blogs, f...   \n",
       "4  Other online resources (e.g., videos, blogs, f...   \n",
       "\n",
       "                                     LearnCodeOnline  \\\n",
       "0                                                NaN   \n",
       "1  Technical documentation;Blogs;Books;Written Tu...   \n",
       "2  Technical documentation;Blogs;Books;Written Tu...   \n",
       "3  Stack Overflow;How-to videos;Interactive tutorial   \n",
       "4  Technical documentation;Blogs;Written Tutorial...   \n",
       "\n",
       "                                             TechDoc YearsCode YearsCodePro  \\\n",
       "0                                                NaN       NaN          NaN   \n",
       "1  API document(s) and/or SDK document(s);User gu...        20           17   \n",
       "2  API document(s) and/or SDK document(s);User gu...        37           27   \n",
       "3                                                NaN         4          NaN   \n",
       "4  API document(s) and/or SDK document(s);User gu...         9          NaN   \n",
       "\n",
       "                 DevType OrgSize PurchaseInfluence BuyNewTool BuildvsBuy  \\\n",
       "0                    NaN     NaN               NaN        NaN        NaN   \n",
       "1  Developer, full-stack     NaN               NaN        NaN        NaN   \n",
       "2   Developer Experience     NaN               NaN        NaN        NaN   \n",
       "3  Developer, full-stack     NaN               NaN        NaN        NaN   \n",
       "4  Developer, full-stack     NaN               NaN        NaN        NaN   \n",
       "\n",
       "  TechEndorse                                            Country Currency  \\\n",
       "0         NaN                           United States of America      NaN   \n",
       "1         NaN  United Kingdom of Great Britain and Northern I...      NaN   \n",
       "2         NaN  United Kingdom of Great Britain and Northern I...      NaN   \n",
       "3         NaN                                             Canada      NaN   \n",
       "4         NaN                                             Norway      NaN   \n",
       "\n",
       "   CompTotal                             LanguageHaveWorkedWith  \\\n",
       "0        NaN                                                NaN   \n",
       "1        NaN  Bash/Shell (all shells);Go;HTML/CSS;Java;JavaS...   \n",
       "2        NaN                                                 C#   \n",
       "3        NaN  C;C++;HTML/CSS;Java;JavaScript;PHP;PowerShell;...   \n",
       "4        NaN            C++;HTML/CSS;JavaScript;Lua;Python;Rust   \n",
       "\n",
       "                              LanguageWantToWorkWith  \\\n",
       "0                                                NaN   \n",
       "1  Bash/Shell (all shells);Go;HTML/CSS;Java;JavaS...   \n",
       "2                                                 C#   \n",
       "3  HTML/CSS;Java;JavaScript;PowerShell;Python;SQL...   \n",
       "4                 C++;HTML/CSS;JavaScript;Lua;Python   \n",
       "\n",
       "                                     LanguageAdmired  \\\n",
       "0                                                NaN   \n",
       "1  Bash/Shell (all shells);Go;HTML/CSS;Java;JavaS...   \n",
       "2                                                 C#   \n",
       "3  HTML/CSS;Java;JavaScript;PowerShell;Python;SQL...   \n",
       "4                 C++;HTML/CSS;JavaScript;Lua;Python   \n",
       "\n",
       "            DatabaseHaveWorkedWith      DatabaseWantToWorkWith  \\\n",
       "0                              NaN                         NaN   \n",
       "1      Dynamodb;MongoDB;PostgreSQL                  PostgreSQL   \n",
       "2       Firebase Realtime Database  Firebase Realtime Database   \n",
       "3  MongoDB;MySQL;PostgreSQL;SQLite    MongoDB;MySQL;PostgreSQL   \n",
       "4                PostgreSQL;SQLite           PostgreSQL;SQLite   \n",
       "\n",
       "              DatabaseAdmired                    PlatformHaveWorkedWith  \\\n",
       "0                         NaN                                       NaN   \n",
       "1                  PostgreSQL  Amazon Web Services (AWS);Heroku;Netlify   \n",
       "2  Firebase Realtime Database                              Google Cloud   \n",
       "3    MongoDB;MySQL;PostgreSQL   Amazon Web Services (AWS);Fly.io;Heroku   \n",
       "4           PostgreSQL;SQLite                                       NaN   \n",
       "\n",
       "                     PlatformWantToWorkWith  \\\n",
       "0                                       NaN   \n",
       "1  Amazon Web Services (AWS);Heroku;Netlify   \n",
       "2                              Google Cloud   \n",
       "3          Amazon Web Services (AWS);Vercel   \n",
       "4                                       NaN   \n",
       "\n",
       "                            PlatformAdmired  \\\n",
       "0                                       NaN   \n",
       "1  Amazon Web Services (AWS);Heroku;Netlify   \n",
       "2                              Google Cloud   \n",
       "3                 Amazon Web Services (AWS)   \n",
       "4                                       NaN   \n",
       "\n",
       "                   WebframeHaveWorkedWith            WebframeWantToWorkWith  \\\n",
       "0                                     NaN                               NaN   \n",
       "1           Express;Next.js;Node.js;React  Express;Htmx;Node.js;React;Remix   \n",
       "2                            ASP.NET CORE                      ASP.NET CORE   \n",
       "3  jQuery;Next.js;Node.js;React;WordPress      jQuery;Next.js;Node.js;React   \n",
       "4                                     NaN                               NaN   \n",
       "\n",
       "                WebframeAdmired   EmbeddedHaveWorkedWith  \\\n",
       "0                           NaN                      NaN   \n",
       "1         Express;Node.js;React                      NaN   \n",
       "2                  ASP.NET CORE              Rasberry Pi   \n",
       "3  jQuery;Next.js;Node.js;React              Rasberry Pi   \n",
       "4                           NaN  CMake;Cargo;Rasberry Pi   \n",
       "\n",
       "  EmbeddedWantToWorkWith    EmbeddedAdmired  \\\n",
       "0                    NaN                NaN   \n",
       "1                    NaN                NaN   \n",
       "2            Rasberry Pi        Rasberry Pi   \n",
       "3                    NaN                NaN   \n",
       "4      CMake;Rasberry Pi  CMake;Rasberry Pi   \n",
       "\n",
       "                            MiscTechHaveWorkedWith  \\\n",
       "0                                              NaN   \n",
       "1                                              NaN   \n",
       "2  .NET (5+) ;.NET Framework (1.0 - 4.8);.NET MAUI   \n",
       "3                     NumPy;Pandas;Ruff;TensorFlow   \n",
       "4                                              NaN   \n",
       "\n",
       "                            MiscTechWantToWorkWith  \\\n",
       "0                                              NaN   \n",
       "1                                              NaN   \n",
       "2  .NET (5+) ;.NET Framework (1.0 - 4.8);.NET MAUI   \n",
       "3                                              NaN   \n",
       "4                                              NaN   \n",
       "\n",
       "                                   MiscTechAdmired  \\\n",
       "0                                              NaN   \n",
       "1                                              NaN   \n",
       "2  .NET (5+) ;.NET Framework (1.0 - 4.8);.NET MAUI   \n",
       "3                                              NaN   \n",
       "4                                              NaN   \n",
       "\n",
       "                       ToolsTechHaveWorkedWith  \\\n",
       "0                                          NaN   \n",
       "1  Docker;Homebrew;Kubernetes;npm;Vite;Webpack   \n",
       "2                                      MSBuild   \n",
       "3                               Docker;npm;Pip   \n",
       "4                                 APT;Make;npm   \n",
       "\n",
       "                       ToolsTechWantToWorkWith  \\\n",
       "0                                          NaN   \n",
       "1  Docker;Homebrew;Kubernetes;npm;Vite;Webpack   \n",
       "2                                      MSBuild   \n",
       "3                        Docker;Kubernetes;npm   \n",
       "4                                     APT;Make   \n",
       "\n",
       "                              ToolsTechAdmired  \\\n",
       "0                                          NaN   \n",
       "1  Docker;Homebrew;Kubernetes;npm;Vite;Webpack   \n",
       "2                                      MSBuild   \n",
       "3                                   Docker;npm   \n",
       "4                                     APT;Make   \n",
       "\n",
       "          NEWCollabToolsHaveWorkedWith         NEWCollabToolsWantToWorkWith  \\\n",
       "0                                  NaN                                  NaN   \n",
       "1  PyCharm;Visual Studio Code;WebStorm  PyCharm;Visual Studio Code;WebStorm   \n",
       "2                        Visual Studio                        Visual Studio   \n",
       "3                                  NaN                                  NaN   \n",
       "4                                  Vim                                  Vim   \n",
       "\n",
       "                 NEWCollabToolsAdmired        OpSysPersonal use  \\\n",
       "0                                  NaN                      NaN   \n",
       "1  PyCharm;Visual Studio Code;WebStorm            MacOS;Windows   \n",
       "2                        Visual Studio                  Windows   \n",
       "3                                  NaN                      NaN   \n",
       "4                                  Vim  Other (please specify):   \n",
       "\n",
       "  OpSysProfessional use                     OfficeStackAsyncHaveWorkedWith  \\\n",
       "0                   NaN                                                NaN   \n",
       "1                 MacOS                                                NaN   \n",
       "2               Windows                                                NaN   \n",
       "3                   NaN                                                NaN   \n",
       "4                   NaN  GitHub Discussions;Markdown File;Obsidian;Stac...   \n",
       "\n",
       "              OfficeStackAsyncWantToWorkWith  \\\n",
       "0                                        NaN   \n",
       "1                                        NaN   \n",
       "2                                        NaN   \n",
       "3                                        NaN   \n",
       "4  GitHub Discussions;Markdown File;Obsidian   \n",
       "\n",
       "                     OfficeStackAsyncAdmired  \\\n",
       "0                                        NaN   \n",
       "1                                        NaN   \n",
       "2                                        NaN   \n",
       "3                                        NaN   \n",
       "4  GitHub Discussions;Markdown File;Obsidian   \n",
       "\n",
       "                  OfficeStackSyncHaveWorkedWith OfficeStackSyncWantToWorkWith  \\\n",
       "0                                           NaN                           NaN   \n",
       "1                         Microsoft Teams;Slack                         Slack   \n",
       "2  Google Chat;Google Meet;Microsoft Teams;Zoom  Google Chat;Google Meet;Zoom   \n",
       "3                                           NaN                           NaN   \n",
       "4                              Discord;Whatsapp              Discord;Whatsapp   \n",
       "\n",
       "         OfficeStackSyncAdmired AISearchDevHaveWorkedWith  \\\n",
       "0                           NaN                       NaN   \n",
       "1                         Slack                       NaN   \n",
       "2  Google Chat;Google Meet;Zoom                       NaN   \n",
       "3                           NaN                       NaN   \n",
       "4              Discord;Whatsapp                       NaN   \n",
       "\n",
       "  AISearchDevWantToWorkWith AISearchDevAdmired  \\\n",
       "0                       NaN                NaN   \n",
       "1                       NaN                NaN   \n",
       "2                       NaN                NaN   \n",
       "3                       NaN                NaN   \n",
       "4                       NaN                NaN   \n",
       "\n",
       "                                          NEWSOSites             SOVisitFreq  \\\n",
       "0  I have never visited Stack Overflow or the Sta...                     NaN   \n",
       "1  Stack Overflow for Teams (private knowledge sh...  Multiple times per day   \n",
       "2  Stack Overflow;Stack Exchange;Stack Overflow B...  Multiple times per day   \n",
       "3                                     Stack Overflow   Daily or almost daily   \n",
       "4  Stack Overflow for Teams (private knowledge sh...  Multiple times per day   \n",
       "\n",
       "  SOAccount              SOPartFreq  \\\n",
       "0       NaN                     NaN   \n",
       "1       Yes  Multiple times per day   \n",
       "2       Yes  Multiple times per day   \n",
       "3        No                     NaN   \n",
       "4       Yes  Multiple times per day   \n",
       "\n",
       "                                               SOHow           SOComm  \\\n",
       "0                                                NaN              NaN   \n",
       "1  Quickly finding code solutions;Finding reliabl...  Yes, definitely   \n",
       "2  Quickly finding code solutions;Finding reliabl...  Yes, definitely   \n",
       "3                     Quickly finding code solutions   No, not really   \n",
       "4  Quickly finding code solutions;Engage with com...  Yes, definitely   \n",
       "\n",
       "                  AISelect          AISent  \\\n",
       "0                      Yes  Very favorable   \n",
       "1  No, and I don't plan to             NaN   \n",
       "2  No, and I don't plan to             NaN   \n",
       "3                      Yes  Very favorable   \n",
       "4  No, and I don't plan to             NaN   \n",
       "\n",
       "                                               AIBen           AIAcc  \\\n",
       "0                              Increase productivity             NaN   \n",
       "1                                                NaN             NaN   \n",
       "2                                                NaN             NaN   \n",
       "3  Increase productivity;Greater efficiency;Impro...  Somewhat trust   \n",
       "4                                                NaN             NaN   \n",
       "\n",
       "                       AIComplex  \\\n",
       "0                            NaN   \n",
       "1                            NaN   \n",
       "2                            NaN   \n",
       "3  Bad at handling complex tasks   \n",
       "4                            NaN   \n",
       "\n",
       "                               AIToolCurrently Using  \\\n",
       "0                                                NaN   \n",
       "1                                                NaN   \n",
       "2                                                NaN   \n",
       "3  Learning about a codebase;Project planning;Wri...   \n",
       "4                                                NaN   \n",
       "\n",
       "                           AIToolInterested in Using  \\\n",
       "0                                                NaN   \n",
       "1                                                NaN   \n",
       "2                                                NaN   \n",
       "3  Testing code;Committing and reviewing code;Pre...   \n",
       "4                                                NaN   \n",
       "\n",
       "  AIToolNot interested in Using  \\\n",
       "0                           NaN   \n",
       "1                           NaN   \n",
       "2                           NaN   \n",
       "3                           NaN   \n",
       "4                           NaN   \n",
       "\n",
       "                          AINextMuch more integrated AINextNo change  \\\n",
       "0                                                NaN             NaN   \n",
       "1                                                NaN             NaN   \n",
       "2                                                NaN             NaN   \n",
       "3  Learning about a codebase;Project planning;Wri...             NaN   \n",
       "4                                                NaN             NaN   \n",
       "\n",
       "  AINextMore integrated AINextLess integrated AINextMuch less integrated  \\\n",
       "0                   NaN                   NaN                        NaN   \n",
       "1                   NaN                   NaN                        NaN   \n",
       "2                   NaN                   NaN                        NaN   \n",
       "3                   NaN                   NaN                        NaN   \n",
       "4                   NaN                   NaN                        NaN   \n",
       "\n",
       "  AIThreat                                           AIEthics  \\\n",
       "0      NaN                                                NaN   \n",
       "1      NaN                                                NaN   \n",
       "2      NaN                                                NaN   \n",
       "3       No  Circulating misinformation or disinformation;M...   \n",
       "4      NaN                                                NaN   \n",
       "\n",
       "                        AIChallenges TBranch                  ICorPM  WorkExp  \\\n",
       "0                                NaN      No                     NaN      NaN   \n",
       "1                                NaN     Yes  Individual contributor     17.0   \n",
       "2                                NaN      No                     NaN      NaN   \n",
       "3  Don’t trust the output or answers     NaN                     NaN      NaN   \n",
       "4                                NaN     NaN                     NaN      NaN   \n",
       "\n",
       "  Knowledge_1 Knowledge_2 Knowledge_3 Knowledge_4 Knowledge_5  \\\n",
       "0         NaN         NaN         NaN         NaN         NaN   \n",
       "1       Agree    Disagree       Agree       Agree       Agree   \n",
       "2         NaN         NaN         NaN         NaN         NaN   \n",
       "3         NaN         NaN         NaN         NaN         NaN   \n",
       "4         NaN         NaN         NaN         NaN         NaN   \n",
       "\n",
       "                  Knowledge_6 Knowledge_7 Knowledge_8 Knowledge_9 Frequency_1  \\\n",
       "0                         NaN         NaN         NaN         NaN         NaN   \n",
       "1  Neither agree nor disagree    Disagree       Agree       Agree         NaN   \n",
       "2                         NaN         NaN         NaN         NaN         NaN   \n",
       "3                         NaN         NaN         NaN         NaN         NaN   \n",
       "4                         NaN         NaN         NaN         NaN         NaN   \n",
       "\n",
       "  Frequency_2 Frequency_3 TimeSearching TimeAnswering Frustration  \\\n",
       "0         NaN         NaN           NaN           NaN         NaN   \n",
       "1         NaN         NaN           NaN           NaN         NaN   \n",
       "2         NaN         NaN           NaN           NaN         NaN   \n",
       "3         NaN         NaN           NaN           NaN         NaN   \n",
       "4         NaN         NaN           NaN           NaN         NaN   \n",
       "\n",
       "  ProfessionalTech ProfessionalCloud ProfessionalQuestion Industry  \\\n",
       "0              NaN               NaN                  NaN      NaN   \n",
       "1              NaN               NaN                  NaN      NaN   \n",
       "2              NaN               NaN                  NaN      NaN   \n",
       "3              NaN               NaN                  NaN      NaN   \n",
       "4              NaN               NaN                  NaN      NaN   \n",
       "\n",
       "   JobSatPoints_1  JobSatPoints_4  JobSatPoints_5  JobSatPoints_6  \\\n",
       "0             NaN             NaN             NaN             NaN   \n",
       "1             0.0             0.0             0.0             0.0   \n",
       "2             NaN             NaN             NaN             NaN   \n",
       "3             NaN             NaN             NaN             NaN   \n",
       "4             NaN             NaN             NaN             NaN   \n",
       "\n",
       "   JobSatPoints_7  JobSatPoints_8  JobSatPoints_9  JobSatPoints_10  \\\n",
       "0             NaN             NaN             NaN              NaN   \n",
       "1             0.0             0.0             0.0              0.0   \n",
       "2             NaN             NaN             NaN              NaN   \n",
       "3             NaN             NaN             NaN              NaN   \n",
       "4             NaN             NaN             NaN              NaN   \n",
       "\n",
       "   JobSatPoints_11           SurveyLength SurveyEase  ConvertedCompYearly  \\\n",
       "0              NaN                    NaN        NaN                  NaN   \n",
       "1              0.0                    NaN        NaN                  NaN   \n",
       "2              NaN  Appropriate in length       Easy                  NaN   \n",
       "3              NaN               Too long       Easy                  NaN   \n",
       "4              NaN              Too short       Easy                  NaN   \n",
       "\n",
       "   JobSat  \n",
       "0     NaN  \n",
       "1     NaN  \n",
       "2     NaN  \n",
       "3     NaN  \n",
       "4     NaN  "
      ]
     },
     "execution_count": 3,
     "metadata": {},
     "output_type": "execute_result"
    }
   ],
   "source": [
    "# Read the CSV file into a dataframe\n",
    "url = '/kaggle/input/stack-overflow-survey-data-2024-subset/survey_data.csv'\n",
    "data = pd.read_csv(url)\n",
    "\n",
    "# Options to display all rows and columns\n",
    "pd.set_option('display.max_rows', None)\n",
    "pd.set_option('display.max_columns', None)\n",
    "\n",
    "# Display the first five rows\n",
    "data.head()"
   ]
  },
  {
   "cell_type": "markdown",
   "id": "e5127f10",
   "metadata": {
    "papermill": {
     "duration": 0.00901,
     "end_time": "2025-09-01T21:56:38.734335",
     "exception": false,
     "start_time": "2025-09-01T21:56:38.725325",
     "status": "completed"
    },
    "tags": []
   },
   "source": [
    "## Handling Duplicate Rows"
   ]
  },
  {
   "cell_type": "markdown",
   "id": "a0b35851",
   "metadata": {
    "papermill": {
     "duration": 0.010938,
     "end_time": "2025-09-01T21:56:38.755279",
     "exception": false,
     "start_time": "2025-09-01T21:56:38.744341",
     "status": "completed"
    },
    "tags": []
   },
   "source": [
    "### Finding Duplicates"
   ]
  },
  {
   "cell_type": "code",
   "execution_count": 4,
   "id": "7d247098",
   "metadata": {
    "execution": {
     "iopub.execute_input": "2025-09-01T21:56:38.776167Z",
     "iopub.status.busy": "2025-09-01T21:56:38.775851Z",
     "iopub.status.idle": "2025-09-01T21:56:39.546163Z",
     "shell.execute_reply": "2025-09-01T21:56:39.544968Z"
    },
    "papermill": {
     "duration": 0.784653,
     "end_time": "2025-09-01T21:56:39.548294",
     "exception": false,
     "start_time": "2025-09-01T21:56:38.763641",
     "status": "completed"
    },
    "tags": []
   },
   "outputs": [
    {
     "name": "stdout",
     "output_type": "stream",
     "text": [
      "There are 0 duplicate rows\n"
     ]
    }
   ],
   "source": [
    "# Finding the number of duplicate rows\n",
    "dup_rows = data[data.duplicated()]\n",
    "num_dups = dup_rows.shape[0]\n",
    "print(f'There are {num_dups} duplicate rows')"
   ]
  },
  {
   "cell_type": "markdown",
   "id": "71a17c67",
   "metadata": {
    "papermill": {
     "duration": 0.008,
     "end_time": "2025-09-01T21:56:39.564802",
     "exception": false,
     "start_time": "2025-09-01T21:56:39.556802",
     "status": "completed"
    },
    "tags": []
   },
   "source": [
    "### Removing Duplicates"
   ]
  },
  {
   "cell_type": "code",
   "execution_count": 5,
   "id": "6d2dc1de",
   "metadata": {
    "execution": {
     "iopub.execute_input": "2025-09-01T21:56:39.582627Z",
     "iopub.status.busy": "2025-09-01T21:56:39.582341Z",
     "iopub.status.idle": "2025-09-01T21:56:41.175974Z",
     "shell.execute_reply": "2025-09-01T21:56:41.174905Z"
    },
    "papermill": {
     "duration": 1.604642,
     "end_time": "2025-09-01T21:56:41.177608",
     "exception": false,
     "start_time": "2025-09-01T21:56:39.572966",
     "status": "completed"
    },
    "tags": []
   },
   "outputs": [
    {
     "name": "stdout",
     "output_type": "stream",
     "text": [
      "There are 0 duplicate rows\n"
     ]
    }
   ],
   "source": [
    "# Removing the duplicate rows and verifying\n",
    "df = data.drop_duplicates()\n",
    "num_dups = df[df.duplicated()].shape[0]\n",
    "print(f'There are {num_dups} duplicate rows')"
   ]
  },
  {
   "cell_type": "markdown",
   "id": "f98356a1",
   "metadata": {
    "papermill": {
     "duration": 0.008866,
     "end_time": "2025-09-01T21:56:41.195143",
     "exception": false,
     "start_time": "2025-09-01T21:56:41.186277",
     "status": "completed"
    },
    "tags": []
   },
   "source": [
    "## Handling Missing Values"
   ]
  },
  {
   "cell_type": "markdown",
   "id": "8ccf4b2e",
   "metadata": {
    "papermill": {
     "duration": 0.08394,
     "end_time": "2025-09-01T21:56:41.287987",
     "exception": false,
     "start_time": "2025-09-01T21:56:41.204047",
     "status": "completed"
    },
    "tags": []
   },
   "source": [
    "### Finding Missing Values"
   ]
  },
  {
   "cell_type": "code",
   "execution_count": 6,
   "id": "3796b38e",
   "metadata": {
    "execution": {
     "iopub.execute_input": "2025-09-01T21:56:41.308750Z",
     "iopub.status.busy": "2025-09-01T21:56:41.308410Z",
     "iopub.status.idle": "2025-09-01T21:56:41.656923Z",
     "shell.execute_reply": "2025-09-01T21:56:41.655021Z"
    },
    "papermill": {
     "duration": 0.361636,
     "end_time": "2025-09-01T21:56:41.659317",
     "exception": false,
     "start_time": "2025-09-01T21:56:41.297681",
     "status": "completed"
    },
    "tags": []
   },
   "outputs": [
    {
     "name": "stdout",
     "output_type": "stream",
     "text": [
      "<class 'pandas.core.frame.DataFrame'>\n",
      "RangeIndex: 65437 entries, 0 to 65436\n",
      "Data columns (total 114 columns):\n",
      " #    Column                          Non-Null Count  Dtype  \n",
      "---   ------                          --------------  -----  \n",
      " 0    ResponseId                      65437 non-null  int64  \n",
      " 1    MainBranch                      65437 non-null  object \n",
      " 2    Age                             65437 non-null  object \n",
      " 3    Employment                      65437 non-null  object \n",
      " 4    RemoteWork                      54806 non-null  object \n",
      " 5    Check                           65437 non-null  object \n",
      " 6    CodingActivities                54466 non-null  object \n",
      " 7    EdLevel                         60784 non-null  object \n",
      " 8    LearnCode                       60488 non-null  object \n",
      " 9    LearnCodeOnline                 49237 non-null  object \n",
      " 10   TechDoc                         40897 non-null  object \n",
      " 11   YearsCode                       59869 non-null  object \n",
      " 12   YearsCodePro                    51610 non-null  object \n",
      " 13   DevType                         59445 non-null  object \n",
      " 14   OrgSize                         47480 non-null  object \n",
      " 15   PurchaseInfluence               47406 non-null  object \n",
      " 16   BuyNewTool                      45181 non-null  object \n",
      " 17   BuildvsBuy                      43358 non-null  object \n",
      " 18   TechEndorse                     43668 non-null  object \n",
      " 19   Country                         58930 non-null  object \n",
      " 20   Currency                        46684 non-null  object \n",
      " 21   CompTotal                       33740 non-null  float64\n",
      " 22   LanguageHaveWorkedWith          59745 non-null  object \n",
      " 23   LanguageWantToWorkWith          55752 non-null  object \n",
      " 24   LanguageAdmired                 50872 non-null  object \n",
      " 25   DatabaseHaveWorkedWith          50254 non-null  object \n",
      " 26   DatabaseWantToWorkWith          42558 non-null  object \n",
      " 27   DatabaseAdmired                 38557 non-null  object \n",
      " 28   PlatformHaveWorkedWith          42366 non-null  object \n",
      " 29   PlatformWantToWorkWith          34532 non-null  object \n",
      " 30   PlatformAdmired                 31377 non-null  object \n",
      " 31   WebframeHaveWorkedWith          45161 non-null  object \n",
      " 32   WebframeWantToWorkWith          38535 non-null  object \n",
      " 33   WebframeAdmired                 34943 non-null  object \n",
      " 34   EmbeddedHaveWorkedWith          22214 non-null  object \n",
      " 35   EmbeddedWantToWorkWith          17600 non-null  object \n",
      " 36   EmbeddedAdmired                 16733 non-null  object \n",
      " 37   MiscTechHaveWorkedWith          39443 non-null  object \n",
      " 38   MiscTechWantToWorkWith          32964 non-null  object \n",
      " 39   MiscTechAdmired                 29596 non-null  object \n",
      " 40   ToolsTechHaveWorkedWith         52482 non-null  object \n",
      " 41   ToolsTechWantToWorkWith         46084 non-null  object \n",
      " 42   ToolsTechAdmired                43997 non-null  object \n",
      " 43   NEWCollabToolsHaveWorkedWith    57592 non-null  object \n",
      " 44   NEWCollabToolsWantToWorkWith    52087 non-null  object \n",
      " 45   NEWCollabToolsAdmired           50711 non-null  object \n",
      " 46   OpSysPersonal use               58174 non-null  object \n",
      " 47   OpSysProfessional use           52973 non-null  object \n",
      " 48   OfficeStackAsyncHaveWorkedWith  48093 non-null  object \n",
      " 49   OfficeStackAsyncWantToWorkWith  38966 non-null  object \n",
      " 50   OfficeStackAsyncAdmired         37204 non-null  object \n",
      " 51   OfficeStackSyncHaveWorkedWith   55545 non-null  object \n",
      " 52   OfficeStackSyncWantToWorkWith   46711 non-null  object \n",
      " 53   OfficeStackSyncAdmired          44712 non-null  object \n",
      " 54   AISearchDevHaveWorkedWith       44453 non-null  object \n",
      " 55   AISearchDevWantToWorkWith       36701 non-null  object \n",
      " 56   AISearchDevAdmired              35543 non-null  object \n",
      " 57   NEWSOSites                      60286 non-null  object \n",
      " 58   SOVisitFreq                     59536 non-null  object \n",
      " 59   SOAccount                       59560 non-null  object \n",
      " 60   SOPartFreq                      45237 non-null  object \n",
      " 61   SOHow                           58962 non-null  object \n",
      " 62   SOComm                          59163 non-null  object \n",
      " 63   AISelect                        60907 non-null  object \n",
      " 64   AISent                          45873 non-null  object \n",
      " 65   AIBen                           36894 non-null  object \n",
      " 66   AIAcc                           37302 non-null  object \n",
      " 67   AIComplex                       37021 non-null  object \n",
      " 68   AIToolCurrently Using           35072 non-null  object \n",
      " 69   AIToolInterested in Using       30691 non-null  object \n",
      " 70   AIToolNot interested in Using   24414 non-null  object \n",
      " 71   AINextMuch more integrated      13438 non-null  object \n",
      " 72   AINextNo change                 12498 non-null  object \n",
      " 73   AINextMore integrated           24428 non-null  object \n",
      " 74   AINextLess integrated           2355 non-null   object \n",
      " 75   AINextMuch less integrated      1148 non-null   object \n",
      " 76   AIThreat                        44689 non-null  object \n",
      " 77   AIEthics                        41548 non-null  object \n",
      " 78   AIChallenges                    37531 non-null  object \n",
      " 79   TBranch                         44477 non-null  object \n",
      " 80   ICorPM                          29801 non-null  object \n",
      " 81   WorkExp                         29658 non-null  float64\n",
      " 82   Knowledge_1                     28664 non-null  object \n",
      " 83   Knowledge_2                     28021 non-null  object \n",
      " 84   Knowledge_3                     28095 non-null  object \n",
      " 85   Knowledge_4                     28030 non-null  object \n",
      " 86   Knowledge_5                     27880 non-null  object \n",
      " 87   Knowledge_6                     27864 non-null  object \n",
      " 88   Knowledge_7                     27778 non-null  object \n",
      " 89   Knowledge_8                     27758 non-null  object \n",
      " 90   Knowledge_9                     27635 non-null  object \n",
      " 91   Frequency_1                     28369 non-null  object \n",
      " 92   Frequency_2                     28364 non-null  object \n",
      " 93   Frequency_3                     27710 non-null  object \n",
      " 94   TimeSearching                   28911 non-null  object \n",
      " 95   TimeAnswering                   28844 non-null  object \n",
      " 96   Frustration                     28251 non-null  object \n",
      " 97   ProfessionalTech                27764 non-null  object \n",
      " 98   ProfessionalCloud               28491 non-null  object \n",
      " 99   ProfessionalQuestion            28807 non-null  object \n",
      " 100  Industry                        28858 non-null  object \n",
      " 101  JobSatPoints_1                  29324 non-null  float64\n",
      " 102  JobSatPoints_4                  29393 non-null  float64\n",
      " 103  JobSatPoints_5                  29411 non-null  float64\n",
      " 104  JobSatPoints_6                  29450 non-null  float64\n",
      " 105  JobSatPoints_7                  29448 non-null  float64\n",
      " 106  JobSatPoints_8                  29456 non-null  float64\n",
      " 107  JobSatPoints_9                  29456 non-null  float64\n",
      " 108  JobSatPoints_10                 29450 non-null  float64\n",
      " 109  JobSatPoints_11                 29445 non-null  float64\n",
      " 110  SurveyLength                    56182 non-null  object \n",
      " 111  SurveyEase                      56238 non-null  object \n",
      " 112  ConvertedCompYearly             23435 non-null  float64\n",
      " 113  JobSat                          29126 non-null  float64\n",
      "dtypes: float64(13), int64(1), object(100)\n",
      "memory usage: 56.9+ MB\n"
     ]
    }
   ],
   "source": [
    "# This method displays the non-null counts for each column\n",
    "# The total rows is 65437 \n",
    "# Every column with less than the total row count means it has missing values \n",
    "df.info(verbose=True, show_counts=True)"
   ]
  },
  {
   "cell_type": "code",
   "execution_count": 7,
   "id": "0c22136e",
   "metadata": {
    "execution": {
     "iopub.execute_input": "2025-09-01T21:56:41.680320Z",
     "iopub.status.busy": "2025-09-01T21:56:41.680001Z",
     "iopub.status.idle": "2025-09-01T21:56:42.012671Z",
     "shell.execute_reply": "2025-09-01T21:56:42.011640Z"
    },
    "papermill": {
     "duration": 0.344272,
     "end_time": "2025-09-01T21:56:42.014370",
     "exception": false,
     "start_time": "2025-09-01T21:56:41.670098",
     "status": "completed"
    },
    "tags": []
   },
   "outputs": [
    {
     "data": {
      "text/plain": [
       "AINextMuch less integrated    64289\n",
       "AINextLess integrated         63082\n",
       "AINextNo change               52939\n",
       "AINextMuch more integrated    51999\n",
       "EmbeddedAdmired               48704\n",
       "dtype: int64"
      ]
     },
     "execution_count": 7,
     "metadata": {},
     "output_type": "execute_result"
    }
   ],
   "source": [
    "# This find the top 5 columns with the most missing values\n",
    "df.isnull().sum().sort_values(ascending = False).head()"
   ]
  },
  {
   "cell_type": "markdown",
   "id": "8bf579d0",
   "metadata": {
    "papermill": {
     "duration": 0.009065,
     "end_time": "2025-09-01T21:56:42.032861",
     "exception": false,
     "start_time": "2025-09-01T21:56:42.023796",
     "status": "completed"
    },
    "tags": []
   },
   "source": [
    "### Droping Rows Based on Objective\n",
    "\n",
    "Our original goal is to find data about the technologies. In that case, the most important columns are `LanguageHaveWorkedWith`, `LanguageWantToWorkWith`, `DatabaseHaveWorkedWith`,`DatabaseWantToWorkWith`, `PlatformHaveWorkedWith`, `PlatformWantToWorkWith`, `WebframeHaveWorkedWith`, `WebframeWantToWorkWith`, `ToolsTechHaveWorkedWith`, `ToolsTechWantToWorkWith`, `NEWCollabToolsHaveWorkedWith`, `NEWCollabToolsWantToWorkWith`. \n",
    "\n",
    "To get the most accurate date, it is best not to replace the missing values with the most frequent because that would skew the data. Here, I will find how many missing values are in these columns."
   ]
  },
  {
   "cell_type": "code",
   "execution_count": 8,
   "id": "65c18527",
   "metadata": {
    "execution": {
     "iopub.execute_input": "2025-09-01T21:56:42.067819Z",
     "iopub.status.busy": "2025-09-01T21:56:42.066682Z",
     "iopub.status.idle": "2025-09-01T21:56:42.146126Z",
     "shell.execute_reply": "2025-09-01T21:56:42.144934Z"
    },
    "papermill": {
     "duration": 0.101186,
     "end_time": "2025-09-01T21:56:42.148564",
     "exception": false,
     "start_time": "2025-09-01T21:56:42.047378",
     "status": "completed"
    },
    "scrolled": true,
    "tags": []
   },
   "outputs": [
    {
     "name": "stdout",
     "output_type": "stream",
     "text": [
      "LanguageHaveWorkedWith\n",
      "False    59745\n",
      "True      5692\n",
      "Name: count, dtype: int64\n",
      "\n",
      "LanguageWantToWorkWith\n",
      "False    55752\n",
      "True      9685\n",
      "Name: count, dtype: int64\n",
      "\n",
      "DatabaseHaveWorkedWith\n",
      "False    50254\n",
      "True     15183\n",
      "Name: count, dtype: int64\n",
      "\n",
      "DatabaseWantToWorkWith\n",
      "False    42558\n",
      "True     22879\n",
      "Name: count, dtype: int64\n",
      "\n",
      "PlatformHaveWorkedWith\n",
      "False    42366\n",
      "True     23071\n",
      "Name: count, dtype: int64\n",
      "\n",
      "PlatformWantToWorkWith\n",
      "False    34532\n",
      "True     30905\n",
      "Name: count, dtype: int64\n",
      "\n",
      "WebframeHaveWorkedWith\n",
      "False    45161\n",
      "True     20276\n",
      "Name: count, dtype: int64\n",
      "\n",
      "WebframeWantToWorkWith\n",
      "False    38535\n",
      "True     26902\n",
      "Name: count, dtype: int64\n",
      "\n",
      "ToolsTechHaveWorkedWith\n",
      "False    52482\n",
      "True     12955\n",
      "Name: count, dtype: int64\n",
      "\n",
      "ToolsTechWantToWorkWith\n",
      "False    46084\n",
      "True     19353\n",
      "Name: count, dtype: int64\n",
      "\n",
      "NEWCollabToolsHaveWorkedWith\n",
      "False    57592\n",
      "True      7845\n",
      "Name: count, dtype: int64\n",
      "\n",
      "NEWCollabToolsWantToWorkWith\n",
      "False    52087\n",
      "True     13350\n",
      "Name: count, dtype: int64\n",
      "\n"
     ]
    }
   ],
   "source": [
    "target_columns = ['LanguageHaveWorkedWith', 'LanguageWantToWorkWith', 'DatabaseHaveWorkedWith', \n",
    "                  'DatabaseWantToWorkWith', 'PlatformHaveWorkedWith', 'PlatformWantToWorkWith', \n",
    "                  'WebframeHaveWorkedWith', 'WebframeWantToWorkWith', 'ToolsTechHaveWorkedWith',\n",
    "                  'ToolsTechWantToWorkWith', 'NEWCollabToolsHaveWorkedWith', 'NEWCollabToolsWantToWorkWith']\n",
    "\n",
    "for column in target_columns:\n",
    "    print(df[column].isnull().value_counts())\n",
    "    print(\"\")"
   ]
  },
  {
   "cell_type": "markdown",
   "id": "902a7a7d",
   "metadata": {
    "papermill": {
     "duration": 0.008831,
     "end_time": "2025-09-01T21:56:42.166764",
     "exception": false,
     "start_time": "2025-09-01T21:56:42.157933",
     "status": "completed"
    },
    "tags": []
   },
   "source": [
    "To not remove an excessive amount of data, I will drop the rows with the least amount of NaN values. Based on that, it seems like the `LanguageHaveWorkedWith` column has the least.                          "
   ]
  },
  {
   "cell_type": "code",
   "execution_count": 9,
   "id": "4e301fef",
   "metadata": {
    "execution": {
     "iopub.execute_input": "2025-09-01T21:56:42.187313Z",
     "iopub.status.busy": "2025-09-01T21:56:42.187008Z",
     "iopub.status.idle": "2025-09-01T21:56:42.309197Z",
     "shell.execute_reply": "2025-09-01T21:56:42.307536Z"
    },
    "papermill": {
     "duration": 0.136994,
     "end_time": "2025-09-01T21:56:42.313404",
     "exception": false,
     "start_time": "2025-09-01T21:56:42.176410",
     "status": "completed"
    },
    "tags": []
   },
   "outputs": [],
   "source": [
    "# This will drop rows based only on the LanguageHaveWorkedWith column\n",
    "df.dropna(subset=['LanguageHaveWorkedWith'], inplace = True)"
   ]
  },
  {
   "cell_type": "code",
   "execution_count": 10,
   "id": "32cff011",
   "metadata": {
    "execution": {
     "iopub.execute_input": "2025-09-01T21:56:42.334814Z",
     "iopub.status.busy": "2025-09-01T21:56:42.334469Z",
     "iopub.status.idle": "2025-09-01T21:56:42.346110Z",
     "shell.execute_reply": "2025-09-01T21:56:42.344834Z"
    },
    "papermill": {
     "duration": 0.027153,
     "end_time": "2025-09-01T21:56:42.350930",
     "exception": false,
     "start_time": "2025-09-01T21:56:42.323777",
     "status": "completed"
    },
    "tags": []
   },
   "outputs": [
    {
     "data": {
      "text/plain": [
       "LanguageHaveWorkedWith\n",
       "False    59745\n",
       "Name: count, dtype: int64"
      ]
     },
     "execution_count": 10,
     "metadata": {},
     "output_type": "execute_result"
    }
   ],
   "source": [
    "# Verify the process\n",
    "df['LanguageHaveWorkedWith'].isnull().value_counts()"
   ]
  },
  {
   "cell_type": "markdown",
   "id": "d5c2263f",
   "metadata": {
    "papermill": {
     "duration": 0.009285,
     "end_time": "2025-09-01T21:56:42.371274",
     "exception": false,
     "start_time": "2025-09-01T21:56:42.361989",
     "status": "completed"
    },
    "tags": []
   },
   "source": [
    "## Dropping Columns Based on Objective\n",
    "\n",
    "There are many columns that I don't need in order to answer my questions. Therefore, I should only include relevant columns. This will also make the dataset smaller as well and easier to load."
   ]
  },
  {
   "cell_type": "code",
   "execution_count": 11,
   "id": "d8180375",
   "metadata": {
    "execution": {
     "iopub.execute_input": "2025-09-01T21:56:42.393609Z",
     "iopub.status.busy": "2025-09-01T21:56:42.393205Z",
     "iopub.status.idle": "2025-09-01T21:56:42.428615Z",
     "shell.execute_reply": "2025-09-01T21:56:42.427687Z"
    },
    "papermill": {
     "duration": 0.048939,
     "end_time": "2025-09-01T21:56:42.430479",
     "exception": false,
     "start_time": "2025-09-01T21:56:42.381540",
     "status": "completed"
    },
    "tags": []
   },
   "outputs": [],
   "source": [
    "df = df[['ResponseId', 'MainBranch', 'Age', 'Employment', 'RemoteWork', 'EdLevel', 'YearsCode',\n",
    "         'YearsCodePro', 'DevType', 'Country', 'CompTotal', 'LanguageHaveWorkedWith', \n",
    "         'LanguageWantToWorkWith', 'DatabaseHaveWorkedWith', 'DatabaseWantToWorkWith', \n",
    "         'PlatformHaveWorkedWith', 'PlatformWantToWorkWith', 'WebframeHaveWorkedWith', \n",
    "         'WebframeWantToWorkWith', 'ToolsTechHaveWorkedWith', 'ToolsTechWantToWorkWith', \n",
    "         'NEWCollabToolsHaveWorkedWith', 'NEWCollabToolsWantToWorkWith', 'WorkExp', 'ConvertedCompYearly',\n",
    "         'JobSat']]"
   ]
  },
  {
   "cell_type": "code",
   "execution_count": 12,
   "id": "debba3f7",
   "metadata": {
    "execution": {
     "iopub.execute_input": "2025-09-01T21:56:42.450629Z",
     "iopub.status.busy": "2025-09-01T21:56:42.450292Z",
     "iopub.status.idle": "2025-09-01T21:56:42.470445Z",
     "shell.execute_reply": "2025-09-01T21:56:42.469537Z"
    },
    "papermill": {
     "duration": 0.031916,
     "end_time": "2025-09-01T21:56:42.471952",
     "exception": false,
     "start_time": "2025-09-01T21:56:42.440036",
     "status": "completed"
    },
    "tags": []
   },
   "outputs": [
    {
     "data": {
      "text/html": [
       "<div>\n",
       "<style scoped>\n",
       "    .dataframe tbody tr th:only-of-type {\n",
       "        vertical-align: middle;\n",
       "    }\n",
       "\n",
       "    .dataframe tbody tr th {\n",
       "        vertical-align: top;\n",
       "    }\n",
       "\n",
       "    .dataframe thead th {\n",
       "        text-align: right;\n",
       "    }\n",
       "</style>\n",
       "<table border=\"1\" class=\"dataframe\">\n",
       "  <thead>\n",
       "    <tr style=\"text-align: right;\">\n",
       "      <th></th>\n",
       "      <th>ResponseId</th>\n",
       "      <th>MainBranch</th>\n",
       "      <th>Age</th>\n",
       "      <th>Employment</th>\n",
       "      <th>RemoteWork</th>\n",
       "      <th>EdLevel</th>\n",
       "      <th>YearsCode</th>\n",
       "      <th>YearsCodePro</th>\n",
       "      <th>DevType</th>\n",
       "      <th>Country</th>\n",
       "      <th>CompTotal</th>\n",
       "      <th>LanguageHaveWorkedWith</th>\n",
       "      <th>LanguageWantToWorkWith</th>\n",
       "      <th>DatabaseHaveWorkedWith</th>\n",
       "      <th>DatabaseWantToWorkWith</th>\n",
       "      <th>PlatformHaveWorkedWith</th>\n",
       "      <th>PlatformWantToWorkWith</th>\n",
       "      <th>WebframeHaveWorkedWith</th>\n",
       "      <th>WebframeWantToWorkWith</th>\n",
       "      <th>ToolsTechHaveWorkedWith</th>\n",
       "      <th>ToolsTechWantToWorkWith</th>\n",
       "      <th>NEWCollabToolsHaveWorkedWith</th>\n",
       "      <th>NEWCollabToolsWantToWorkWith</th>\n",
       "      <th>WorkExp</th>\n",
       "      <th>ConvertedCompYearly</th>\n",
       "      <th>JobSat</th>\n",
       "    </tr>\n",
       "  </thead>\n",
       "  <tbody>\n",
       "    <tr>\n",
       "      <th>1</th>\n",
       "      <td>2</td>\n",
       "      <td>I am a developer by profession</td>\n",
       "      <td>35-44 years old</td>\n",
       "      <td>Employed, full-time</td>\n",
       "      <td>Remote</td>\n",
       "      <td>Bachelor’s degree (B.A., B.S., B.Eng., etc.)</td>\n",
       "      <td>20</td>\n",
       "      <td>17</td>\n",
       "      <td>Developer, full-stack</td>\n",
       "      <td>United Kingdom of Great Britain and Northern I...</td>\n",
       "      <td>NaN</td>\n",
       "      <td>Bash/Shell (all shells);Go;HTML/CSS;Java;JavaS...</td>\n",
       "      <td>Bash/Shell (all shells);Go;HTML/CSS;Java;JavaS...</td>\n",
       "      <td>Dynamodb;MongoDB;PostgreSQL</td>\n",
       "      <td>PostgreSQL</td>\n",
       "      <td>Amazon Web Services (AWS);Heroku;Netlify</td>\n",
       "      <td>Amazon Web Services (AWS);Heroku;Netlify</td>\n",
       "      <td>Express;Next.js;Node.js;React</td>\n",
       "      <td>Express;Htmx;Node.js;React;Remix</td>\n",
       "      <td>Docker;Homebrew;Kubernetes;npm;Vite;Webpack</td>\n",
       "      <td>Docker;Homebrew;Kubernetes;npm;Vite;Webpack</td>\n",
       "      <td>PyCharm;Visual Studio Code;WebStorm</td>\n",
       "      <td>PyCharm;Visual Studio Code;WebStorm</td>\n",
       "      <td>17.0</td>\n",
       "      <td>NaN</td>\n",
       "      <td>NaN</td>\n",
       "    </tr>\n",
       "    <tr>\n",
       "      <th>2</th>\n",
       "      <td>3</td>\n",
       "      <td>I am a developer by profession</td>\n",
       "      <td>45-54 years old</td>\n",
       "      <td>Employed, full-time</td>\n",
       "      <td>Remote</td>\n",
       "      <td>Master’s degree (M.A., M.S., M.Eng., MBA, etc.)</td>\n",
       "      <td>37</td>\n",
       "      <td>27</td>\n",
       "      <td>Developer Experience</td>\n",
       "      <td>United Kingdom of Great Britain and Northern I...</td>\n",
       "      <td>NaN</td>\n",
       "      <td>C#</td>\n",
       "      <td>C#</td>\n",
       "      <td>Firebase Realtime Database</td>\n",
       "      <td>Firebase Realtime Database</td>\n",
       "      <td>Google Cloud</td>\n",
       "      <td>Google Cloud</td>\n",
       "      <td>ASP.NET CORE</td>\n",
       "      <td>ASP.NET CORE</td>\n",
       "      <td>MSBuild</td>\n",
       "      <td>MSBuild</td>\n",
       "      <td>Visual Studio</td>\n",
       "      <td>Visual Studio</td>\n",
       "      <td>NaN</td>\n",
       "      <td>NaN</td>\n",
       "      <td>NaN</td>\n",
       "    </tr>\n",
       "    <tr>\n",
       "      <th>3</th>\n",
       "      <td>4</td>\n",
       "      <td>I am learning to code</td>\n",
       "      <td>18-24 years old</td>\n",
       "      <td>Student, full-time</td>\n",
       "      <td>NaN</td>\n",
       "      <td>Some college/university study without earning ...</td>\n",
       "      <td>4</td>\n",
       "      <td>NaN</td>\n",
       "      <td>Developer, full-stack</td>\n",
       "      <td>Canada</td>\n",
       "      <td>NaN</td>\n",
       "      <td>C;C++;HTML/CSS;Java;JavaScript;PHP;PowerShell;...</td>\n",
       "      <td>HTML/CSS;Java;JavaScript;PowerShell;Python;SQL...</td>\n",
       "      <td>MongoDB;MySQL;PostgreSQL;SQLite</td>\n",
       "      <td>MongoDB;MySQL;PostgreSQL</td>\n",
       "      <td>Amazon Web Services (AWS);Fly.io;Heroku</td>\n",
       "      <td>Amazon Web Services (AWS);Vercel</td>\n",
       "      <td>jQuery;Next.js;Node.js;React;WordPress</td>\n",
       "      <td>jQuery;Next.js;Node.js;React</td>\n",
       "      <td>Docker;npm;Pip</td>\n",
       "      <td>Docker;Kubernetes;npm</td>\n",
       "      <td>NaN</td>\n",
       "      <td>NaN</td>\n",
       "      <td>NaN</td>\n",
       "      <td>NaN</td>\n",
       "      <td>NaN</td>\n",
       "    </tr>\n",
       "    <tr>\n",
       "      <th>4</th>\n",
       "      <td>5</td>\n",
       "      <td>I am a developer by profession</td>\n",
       "      <td>18-24 years old</td>\n",
       "      <td>Student, full-time</td>\n",
       "      <td>NaN</td>\n",
       "      <td>Secondary school (e.g. American high school, G...</td>\n",
       "      <td>9</td>\n",
       "      <td>NaN</td>\n",
       "      <td>Developer, full-stack</td>\n",
       "      <td>Norway</td>\n",
       "      <td>NaN</td>\n",
       "      <td>C++;HTML/CSS;JavaScript;Lua;Python;Rust</td>\n",
       "      <td>C++;HTML/CSS;JavaScript;Lua;Python</td>\n",
       "      <td>PostgreSQL;SQLite</td>\n",
       "      <td>PostgreSQL;SQLite</td>\n",
       "      <td>NaN</td>\n",
       "      <td>NaN</td>\n",
       "      <td>NaN</td>\n",
       "      <td>NaN</td>\n",
       "      <td>APT;Make;npm</td>\n",
       "      <td>APT;Make</td>\n",
       "      <td>Vim</td>\n",
       "      <td>Vim</td>\n",
       "      <td>NaN</td>\n",
       "      <td>NaN</td>\n",
       "      <td>NaN</td>\n",
       "    </tr>\n",
       "    <tr>\n",
       "      <th>5</th>\n",
       "      <td>6</td>\n",
       "      <td>I code primarily as a hobby</td>\n",
       "      <td>Under 18 years old</td>\n",
       "      <td>Student, full-time</td>\n",
       "      <td>NaN</td>\n",
       "      <td>Primary/elementary school</td>\n",
       "      <td>10</td>\n",
       "      <td>NaN</td>\n",
       "      <td>Student</td>\n",
       "      <td>United States of America</td>\n",
       "      <td>NaN</td>\n",
       "      <td>Bash/Shell (all shells);HTML/CSS;Java;JavaScri...</td>\n",
       "      <td>Bash/Shell (all shells);HTML/CSS;Java;JavaScri...</td>\n",
       "      <td>Cloud Firestore</td>\n",
       "      <td>Cloud Firestore</td>\n",
       "      <td>Cloudflare</td>\n",
       "      <td>Cloudflare</td>\n",
       "      <td>Node.js</td>\n",
       "      <td>Node.js</td>\n",
       "      <td>Docker;Homebrew;npm;Pip;pnpm</td>\n",
       "      <td>Homebrew;npm;Pip;pnpm</td>\n",
       "      <td>Nano;Vim;Visual Studio Code;Xcode</td>\n",
       "      <td>Nano;Vim;Visual Studio Code;Xcode</td>\n",
       "      <td>NaN</td>\n",
       "      <td>NaN</td>\n",
       "      <td>NaN</td>\n",
       "    </tr>\n",
       "  </tbody>\n",
       "</table>\n",
       "</div>"
      ],
      "text/plain": [
       "   ResponseId                      MainBranch                 Age  \\\n",
       "1           2  I am a developer by profession     35-44 years old   \n",
       "2           3  I am a developer by profession     45-54 years old   \n",
       "3           4           I am learning to code     18-24 years old   \n",
       "4           5  I am a developer by profession     18-24 years old   \n",
       "5           6     I code primarily as a hobby  Under 18 years old   \n",
       "\n",
       "            Employment RemoteWork  \\\n",
       "1  Employed, full-time     Remote   \n",
       "2  Employed, full-time     Remote   \n",
       "3   Student, full-time        NaN   \n",
       "4   Student, full-time        NaN   \n",
       "5   Student, full-time        NaN   \n",
       "\n",
       "                                             EdLevel YearsCode YearsCodePro  \\\n",
       "1       Bachelor’s degree (B.A., B.S., B.Eng., etc.)        20           17   \n",
       "2    Master’s degree (M.A., M.S., M.Eng., MBA, etc.)        37           27   \n",
       "3  Some college/university study without earning ...         4          NaN   \n",
       "4  Secondary school (e.g. American high school, G...         9          NaN   \n",
       "5                          Primary/elementary school        10          NaN   \n",
       "\n",
       "                 DevType                                            Country  \\\n",
       "1  Developer, full-stack  United Kingdom of Great Britain and Northern I...   \n",
       "2   Developer Experience  United Kingdom of Great Britain and Northern I...   \n",
       "3  Developer, full-stack                                             Canada   \n",
       "4  Developer, full-stack                                             Norway   \n",
       "5                Student                           United States of America   \n",
       "\n",
       "   CompTotal                             LanguageHaveWorkedWith  \\\n",
       "1        NaN  Bash/Shell (all shells);Go;HTML/CSS;Java;JavaS...   \n",
       "2        NaN                                                 C#   \n",
       "3        NaN  C;C++;HTML/CSS;Java;JavaScript;PHP;PowerShell;...   \n",
       "4        NaN            C++;HTML/CSS;JavaScript;Lua;Python;Rust   \n",
       "5        NaN  Bash/Shell (all shells);HTML/CSS;Java;JavaScri...   \n",
       "\n",
       "                              LanguageWantToWorkWith  \\\n",
       "1  Bash/Shell (all shells);Go;HTML/CSS;Java;JavaS...   \n",
       "2                                                 C#   \n",
       "3  HTML/CSS;Java;JavaScript;PowerShell;Python;SQL...   \n",
       "4                 C++;HTML/CSS;JavaScript;Lua;Python   \n",
       "5  Bash/Shell (all shells);HTML/CSS;Java;JavaScri...   \n",
       "\n",
       "            DatabaseHaveWorkedWith      DatabaseWantToWorkWith  \\\n",
       "1      Dynamodb;MongoDB;PostgreSQL                  PostgreSQL   \n",
       "2       Firebase Realtime Database  Firebase Realtime Database   \n",
       "3  MongoDB;MySQL;PostgreSQL;SQLite    MongoDB;MySQL;PostgreSQL   \n",
       "4                PostgreSQL;SQLite           PostgreSQL;SQLite   \n",
       "5                  Cloud Firestore             Cloud Firestore   \n",
       "\n",
       "                     PlatformHaveWorkedWith  \\\n",
       "1  Amazon Web Services (AWS);Heroku;Netlify   \n",
       "2                              Google Cloud   \n",
       "3   Amazon Web Services (AWS);Fly.io;Heroku   \n",
       "4                                       NaN   \n",
       "5                                Cloudflare   \n",
       "\n",
       "                     PlatformWantToWorkWith  \\\n",
       "1  Amazon Web Services (AWS);Heroku;Netlify   \n",
       "2                              Google Cloud   \n",
       "3          Amazon Web Services (AWS);Vercel   \n",
       "4                                       NaN   \n",
       "5                                Cloudflare   \n",
       "\n",
       "                   WebframeHaveWorkedWith            WebframeWantToWorkWith  \\\n",
       "1           Express;Next.js;Node.js;React  Express;Htmx;Node.js;React;Remix   \n",
       "2                            ASP.NET CORE                      ASP.NET CORE   \n",
       "3  jQuery;Next.js;Node.js;React;WordPress      jQuery;Next.js;Node.js;React   \n",
       "4                                     NaN                               NaN   \n",
       "5                                 Node.js                           Node.js   \n",
       "\n",
       "                       ToolsTechHaveWorkedWith  \\\n",
       "1  Docker;Homebrew;Kubernetes;npm;Vite;Webpack   \n",
       "2                                      MSBuild   \n",
       "3                               Docker;npm;Pip   \n",
       "4                                 APT;Make;npm   \n",
       "5                 Docker;Homebrew;npm;Pip;pnpm   \n",
       "\n",
       "                       ToolsTechWantToWorkWith  \\\n",
       "1  Docker;Homebrew;Kubernetes;npm;Vite;Webpack   \n",
       "2                                      MSBuild   \n",
       "3                        Docker;Kubernetes;npm   \n",
       "4                                     APT;Make   \n",
       "5                        Homebrew;npm;Pip;pnpm   \n",
       "\n",
       "          NEWCollabToolsHaveWorkedWith         NEWCollabToolsWantToWorkWith  \\\n",
       "1  PyCharm;Visual Studio Code;WebStorm  PyCharm;Visual Studio Code;WebStorm   \n",
       "2                        Visual Studio                        Visual Studio   \n",
       "3                                  NaN                                  NaN   \n",
       "4                                  Vim                                  Vim   \n",
       "5    Nano;Vim;Visual Studio Code;Xcode    Nano;Vim;Visual Studio Code;Xcode   \n",
       "\n",
       "   WorkExp  ConvertedCompYearly  JobSat  \n",
       "1     17.0                  NaN     NaN  \n",
       "2      NaN                  NaN     NaN  \n",
       "3      NaN                  NaN     NaN  \n",
       "4      NaN                  NaN     NaN  \n",
       "5      NaN                  NaN     NaN  "
      ]
     },
     "execution_count": 12,
     "metadata": {},
     "output_type": "execute_result"
    }
   ],
   "source": [
    "df.head()"
   ]
  },
  {
   "cell_type": "markdown",
   "id": "d69e1933",
   "metadata": {
    "papermill": {
     "duration": 0.010337,
     "end_time": "2025-09-01T21:56:42.492226",
     "exception": false,
     "start_time": "2025-09-01T21:56:42.481889",
     "status": "completed"
    },
    "tags": []
   },
   "source": [
    "### Imputing Missing Values in Numeric Columns"
   ]
  },
  {
   "cell_type": "markdown",
   "id": "400f4d66",
   "metadata": {
    "papermill": {
     "duration": 0.010753,
     "end_time": "2025-09-01T21:56:42.513497",
     "exception": false,
     "start_time": "2025-09-01T21:56:42.502744",
     "status": "completed"
    },
    "tags": []
   },
   "source": [
    "> Note: Since there are over 50% of missing values in some of the columns, I will not impute values for those columns. I will just leave the NaN values there for now."
   ]
  },
  {
   "cell_type": "markdown",
   "id": "04e54f6b",
   "metadata": {
    "papermill": {
     "duration": 0.011278,
     "end_time": "2025-09-01T21:56:42.535451",
     "exception": false,
     "start_time": "2025-09-01T21:56:42.524173",
     "status": "completed"
    },
    "tags": []
   },
   "source": [
    "#### YearsCode Column\n",
    "\n",
    "Since the `YearsCode` column has a dtype of 'object', I will convert it to 'float' for imputing the average years. "
   ]
  },
  {
   "cell_type": "code",
   "execution_count": 13,
   "id": "74ff3964",
   "metadata": {
    "execution": {
     "iopub.execute_input": "2025-09-01T21:56:42.563337Z",
     "iopub.status.busy": "2025-09-01T21:56:42.562373Z",
     "iopub.status.idle": "2025-09-01T21:56:42.590834Z",
     "shell.execute_reply": "2025-09-01T21:56:42.589043Z"
    },
    "papermill": {
     "duration": 0.045783,
     "end_time": "2025-09-01T21:56:42.592409",
     "exception": false,
     "start_time": "2025-09-01T21:56:42.546626",
     "status": "completed"
    },
    "tags": []
   },
   "outputs": [],
   "source": [
    "# Method 1 - fillna\n",
    "\n",
    "# Replacing the strings to a number\n",
    "df['YearsCode'].replace('Less than 1 year', '0', inplace = True)\n",
    "df['YearsCode'].replace('More than 50 years', '50', inplace = True)\n",
    "df['YearsCode'] = df['YearsCode'].astype(float)\n",
    "\n",
    "# Replace NaN values with the average\n",
    "avg_years = round(df['YearsCode'].mean(), 0)\n",
    "df['YearsCode'].fillna(avg_years, inplace = True)"
   ]
  },
  {
   "cell_type": "code",
   "execution_count": 14,
   "id": "bf042990",
   "metadata": {
    "execution": {
     "iopub.execute_input": "2025-09-01T21:56:42.615175Z",
     "iopub.status.busy": "2025-09-01T21:56:42.614881Z",
     "iopub.status.idle": "2025-09-01T21:56:42.623172Z",
     "shell.execute_reply": "2025-09-01T21:56:42.622193Z"
    },
    "papermill": {
     "duration": 0.021525,
     "end_time": "2025-09-01T21:56:42.624735",
     "exception": false,
     "start_time": "2025-09-01T21:56:42.603210",
     "status": "completed"
    },
    "tags": []
   },
   "outputs": [
    {
     "data": {
      "text/plain": [
       "YearsCode\n",
       "False    59745\n",
       "Name: count, dtype: int64"
      ]
     },
     "execution_count": 14,
     "metadata": {},
     "output_type": "execute_result"
    }
   ],
   "source": [
    "# Verify the imputation\n",
    "df['YearsCode'].isnull().value_counts()"
   ]
  },
  {
   "cell_type": "markdown",
   "id": "d6d08bfc",
   "metadata": {
    "papermill": {
     "duration": 0.01018,
     "end_time": "2025-09-01T21:56:42.646323",
     "exception": false,
     "start_time": "2025-09-01T21:56:42.636143",
     "status": "completed"
    },
    "tags": []
   },
   "source": [
    "#### YearsCodePro Column\n",
    "\n",
    "The same thing applies to the `YearsCodePro` column. I will also convert it to 'float'."
   ]
  },
  {
   "cell_type": "code",
   "execution_count": 15,
   "id": "67cc7d03",
   "metadata": {
    "execution": {
     "iopub.execute_input": "2025-09-01T21:56:42.667157Z",
     "iopub.status.busy": "2025-09-01T21:56:42.666841Z",
     "iopub.status.idle": "2025-09-01T21:56:42.692771Z",
     "shell.execute_reply": "2025-09-01T21:56:42.691836Z"
    },
    "papermill": {
     "duration": 0.038763,
     "end_time": "2025-09-01T21:56:42.694886",
     "exception": false,
     "start_time": "2025-09-01T21:56:42.656123",
     "status": "completed"
    },
    "tags": []
   },
   "outputs": [],
   "source": [
    "# Method 2 - replace\n",
    "\n",
    "# Replacing the strings to a number\n",
    "df['YearsCodePro'].replace('Less than 1 year', '0', inplace = True)\n",
    "df['YearsCodePro'].replace('More than 50 years', '50', inplace = True)\n",
    "df['YearsCodePro'] = df['YearsCodePro'].astype(float)\n",
    "\n",
    "# Replace NaN values with the average\n",
    "avg_years = round(df['YearsCodePro'].mean(), 0)\n",
    "df['YearsCodePro'].fillna(avg_years, inplace = True)"
   ]
  },
  {
   "cell_type": "code",
   "execution_count": 16,
   "id": "2249b04a",
   "metadata": {
    "execution": {
     "iopub.execute_input": "2025-09-01T21:56:42.716805Z",
     "iopub.status.busy": "2025-09-01T21:56:42.716448Z",
     "iopub.status.idle": "2025-09-01T21:56:42.724352Z",
     "shell.execute_reply": "2025-09-01T21:56:42.723385Z"
    },
    "papermill": {
     "duration": 0.021146,
     "end_time": "2025-09-01T21:56:42.726179",
     "exception": false,
     "start_time": "2025-09-01T21:56:42.705033",
     "status": "completed"
    },
    "tags": []
   },
   "outputs": [
    {
     "data": {
      "text/plain": [
       "YearsCodePro\n",
       "False    59745\n",
       "Name: count, dtype: int64"
      ]
     },
     "execution_count": 16,
     "metadata": {},
     "output_type": "execute_result"
    }
   ],
   "source": [
    "# Verify the imputation\n",
    "df['YearsCodePro'].isnull().value_counts()"
   ]
  },
  {
   "cell_type": "markdown",
   "id": "2b5a448d",
   "metadata": {
    "papermill": {
     "duration": 0.010151,
     "end_time": "2025-09-01T21:56:42.747115",
     "exception": false,
     "start_time": "2025-09-01T21:56:42.736964",
     "status": "completed"
    },
    "tags": []
   },
   "source": [
    "### Imputing Missing Values in Categorical Columns"
   ]
  },
  {
   "cell_type": "markdown",
   "id": "904ba30a",
   "metadata": {
    "papermill": {
     "duration": 0.00995,
     "end_time": "2025-09-01T21:56:42.767592",
     "exception": false,
     "start_time": "2025-09-01T21:56:42.757642",
     "status": "completed"
    },
    "tags": []
   },
   "source": [
    "#### RemoteWork Column"
   ]
  },
  {
   "cell_type": "code",
   "execution_count": 17,
   "id": "ab872e28",
   "metadata": {
    "execution": {
     "iopub.execute_input": "2025-09-01T21:56:42.790466Z",
     "iopub.status.busy": "2025-09-01T21:56:42.790010Z",
     "iopub.status.idle": "2025-09-01T21:56:42.806611Z",
     "shell.execute_reply": "2025-09-01T21:56:42.805485Z"
    },
    "papermill": {
     "duration": 0.030176,
     "end_time": "2025-09-01T21:56:42.808517",
     "exception": false,
     "start_time": "2025-09-01T21:56:42.778341",
     "status": "completed"
    },
    "tags": []
   },
   "outputs": [],
   "source": [
    "# Method 1 - fillna\n",
    "\n",
    "# Finding the most frequent value\n",
    "most_remote = df['RemoteWork'].mode()[0]\n",
    "\n",
    "# Filling the missing values\n",
    "df['RemoteWork'].fillna(most_remote, inplace = True)"
   ]
  },
  {
   "cell_type": "code",
   "execution_count": 18,
   "id": "4858da3d",
   "metadata": {
    "execution": {
     "iopub.execute_input": "2025-09-01T21:56:42.831307Z",
     "iopub.status.busy": "2025-09-01T21:56:42.830903Z",
     "iopub.status.idle": "2025-09-01T21:56:42.843572Z",
     "shell.execute_reply": "2025-09-01T21:56:42.842268Z"
    },
    "papermill": {
     "duration": 0.027645,
     "end_time": "2025-09-01T21:56:42.846350",
     "exception": false,
     "start_time": "2025-09-01T21:56:42.818705",
     "status": "completed"
    },
    "tags": []
   },
   "outputs": [
    {
     "data": {
      "text/plain": [
       "RemoteWork\n",
       "False    59745\n",
       "Name: count, dtype: int64"
      ]
     },
     "execution_count": 18,
     "metadata": {},
     "output_type": "execute_result"
    }
   ],
   "source": [
    "# Verify the imputation\n",
    "df['RemoteWork'].isnull().value_counts()"
   ]
  },
  {
   "cell_type": "markdown",
   "id": "7098cef4",
   "metadata": {
    "papermill": {
     "duration": 0.011165,
     "end_time": "2025-09-01T21:56:42.869992",
     "exception": false,
     "start_time": "2025-09-01T21:56:42.858827",
     "status": "completed"
    },
    "tags": []
   },
   "source": [
    "#### EdLevel Column"
   ]
  },
  {
   "cell_type": "code",
   "execution_count": 19,
   "id": "305b9aad",
   "metadata": {
    "execution": {
     "iopub.execute_input": "2025-09-01T21:56:42.892538Z",
     "iopub.status.busy": "2025-09-01T21:56:42.892238Z",
     "iopub.status.idle": "2025-09-01T21:56:42.909783Z",
     "shell.execute_reply": "2025-09-01T21:56:42.908897Z"
    },
    "papermill": {
     "duration": 0.031008,
     "end_time": "2025-09-01T21:56:42.911585",
     "exception": false,
     "start_time": "2025-09-01T21:56:42.880577",
     "status": "completed"
    },
    "tags": []
   },
   "outputs": [],
   "source": [
    "# Method 2 - replace\n",
    "\n",
    "# Finding the most frequent value\n",
    "freq_ed_level = df['EdLevel'].mode()[0]\n",
    "\n",
    "# Replace the NaN with most frequent value\n",
    "df['EdLevel'].replace(np.nan, freq_ed_level, inplace = True)"
   ]
  },
  {
   "cell_type": "code",
   "execution_count": 20,
   "id": "b380ae77",
   "metadata": {
    "execution": {
     "iopub.execute_input": "2025-09-01T21:56:42.933509Z",
     "iopub.status.busy": "2025-09-01T21:56:42.933231Z",
     "iopub.status.idle": "2025-09-01T21:56:42.943778Z",
     "shell.execute_reply": "2025-09-01T21:56:42.942623Z"
    },
    "papermill": {
     "duration": 0.023136,
     "end_time": "2025-09-01T21:56:42.945360",
     "exception": false,
     "start_time": "2025-09-01T21:56:42.922224",
     "status": "completed"
    },
    "tags": []
   },
   "outputs": [
    {
     "data": {
      "text/plain": [
       "EdLevel\n",
       "False    59745\n",
       "Name: count, dtype: int64"
      ]
     },
     "execution_count": 20,
     "metadata": {},
     "output_type": "execute_result"
    }
   ],
   "source": [
    "# Verify the imputation\n",
    "df['EdLevel'].isnull().value_counts()"
   ]
  },
  {
   "cell_type": "markdown",
   "id": "84ce6290",
   "metadata": {
    "papermill": {
     "duration": 0.009792,
     "end_time": "2025-09-01T21:56:42.965374",
     "exception": false,
     "start_time": "2025-09-01T21:56:42.955582",
     "status": "completed"
    },
    "tags": []
   },
   "source": [
    "## Data Normalization"
   ]
  },
  {
   "cell_type": "markdown",
   "id": "c146b5d4",
   "metadata": {
    "papermill": {
     "duration": 0.00981,
     "end_time": "2025-09-01T21:56:42.985269",
     "exception": false,
     "start_time": "2025-09-01T21:56:42.975459",
     "status": "completed"
    },
    "tags": []
   },
   "source": [
    "### Min-Max Scaling\n",
    "\n",
    "(data - min) / (max - min)"
   ]
  },
  {
   "cell_type": "markdown",
   "id": "67db69a2",
   "metadata": {
    "papermill": {
     "duration": 0.009874,
     "end_time": "2025-09-01T21:56:43.005165",
     "exception": false,
     "start_time": "2025-09-01T21:56:42.995291",
     "status": "completed"
    },
    "tags": []
   },
   "source": [
    "#### YearsCode Column"
   ]
  },
  {
   "cell_type": "code",
   "execution_count": 21,
   "id": "c9e2c909",
   "metadata": {
    "execution": {
     "iopub.execute_input": "2025-09-01T21:56:43.026575Z",
     "iopub.status.busy": "2025-09-01T21:56:43.026241Z",
     "iopub.status.idle": "2025-09-01T21:56:43.033768Z",
     "shell.execute_reply": "2025-09-01T21:56:43.032603Z"
    },
    "papermill": {
     "duration": 0.02118,
     "end_time": "2025-09-01T21:56:43.036315",
     "exception": false,
     "start_time": "2025-09-01T21:56:43.015135",
     "status": "completed"
    },
    "tags": []
   },
   "outputs": [],
   "source": [
    "# Creating a new column to place the normalize values\n",
    "df['YearsCode_MinMax'] = (df['YearsCode'] - df['YearsCode'].min()) / (df['YearsCode'].max() - df['YearsCode'].min())"
   ]
  },
  {
   "cell_type": "code",
   "execution_count": 22,
   "id": "69c6fca7",
   "metadata": {
    "execution": {
     "iopub.execute_input": "2025-09-01T21:56:43.061169Z",
     "iopub.status.busy": "2025-09-01T21:56:43.060886Z",
     "iopub.status.idle": "2025-09-01T21:56:43.071949Z",
     "shell.execute_reply": "2025-09-01T21:56:43.071067Z"
    },
    "papermill": {
     "duration": 0.025578,
     "end_time": "2025-09-01T21:56:43.073370",
     "exception": false,
     "start_time": "2025-09-01T21:56:43.047792",
     "status": "completed"
    },
    "tags": []
   },
   "outputs": [
    {
     "data": {
      "text/html": [
       "<div>\n",
       "<style scoped>\n",
       "    .dataframe tbody tr th:only-of-type {\n",
       "        vertical-align: middle;\n",
       "    }\n",
       "\n",
       "    .dataframe tbody tr th {\n",
       "        vertical-align: top;\n",
       "    }\n",
       "\n",
       "    .dataframe thead th {\n",
       "        text-align: right;\n",
       "    }\n",
       "</style>\n",
       "<table border=\"1\" class=\"dataframe\">\n",
       "  <thead>\n",
       "    <tr style=\"text-align: right;\">\n",
       "      <th></th>\n",
       "      <th>YearsCode_MinMax</th>\n",
       "      <th>YearsCode</th>\n",
       "    </tr>\n",
       "  </thead>\n",
       "  <tbody>\n",
       "    <tr>\n",
       "      <th>1</th>\n",
       "      <td>0.40</td>\n",
       "      <td>20.0</td>\n",
       "    </tr>\n",
       "    <tr>\n",
       "      <th>2</th>\n",
       "      <td>0.74</td>\n",
       "      <td>37.0</td>\n",
       "    </tr>\n",
       "    <tr>\n",
       "      <th>3</th>\n",
       "      <td>0.08</td>\n",
       "      <td>4.0</td>\n",
       "    </tr>\n",
       "    <tr>\n",
       "      <th>4</th>\n",
       "      <td>0.18</td>\n",
       "      <td>9.0</td>\n",
       "    </tr>\n",
       "    <tr>\n",
       "      <th>5</th>\n",
       "      <td>0.20</td>\n",
       "      <td>10.0</td>\n",
       "    </tr>\n",
       "  </tbody>\n",
       "</table>\n",
       "</div>"
      ],
      "text/plain": [
       "   YearsCode_MinMax  YearsCode\n",
       "1              0.40       20.0\n",
       "2              0.74       37.0\n",
       "3              0.08        4.0\n",
       "4              0.18        9.0\n",
       "5              0.20       10.0"
      ]
     },
     "execution_count": 22,
     "metadata": {},
     "output_type": "execute_result"
    }
   ],
   "source": [
    "# Compare the normalized and original values\n",
    "df[['YearsCode_MinMax', 'YearsCode']].head()"
   ]
  },
  {
   "cell_type": "markdown",
   "id": "2300c6b3",
   "metadata": {
    "papermill": {
     "duration": 0.01003,
     "end_time": "2025-09-01T21:56:43.094221",
     "exception": false,
     "start_time": "2025-09-01T21:56:43.084191",
     "status": "completed"
    },
    "tags": []
   },
   "source": [
    "### Z-score normalization\n",
    "\n",
    "(data - mean) / standard deviation"
   ]
  },
  {
   "cell_type": "markdown",
   "id": "502e5855",
   "metadata": {
    "papermill": {
     "duration": 0.011405,
     "end_time": "2025-09-01T21:56:43.117153",
     "exception": false,
     "start_time": "2025-09-01T21:56:43.105748",
     "status": "completed"
    },
    "tags": []
   },
   "source": [
    "#### YearsCodePro Column"
   ]
  },
  {
   "cell_type": "code",
   "execution_count": 23,
   "id": "ae9aa75d",
   "metadata": {
    "execution": {
     "iopub.execute_input": "2025-09-01T21:56:43.139412Z",
     "iopub.status.busy": "2025-09-01T21:56:43.139095Z",
     "iopub.status.idle": "2025-09-01T21:56:43.147717Z",
     "shell.execute_reply": "2025-09-01T21:56:43.146008Z"
    },
    "papermill": {
     "duration": 0.02195,
     "end_time": "2025-09-01T21:56:43.149642",
     "exception": false,
     "start_time": "2025-09-01T21:56:43.127692",
     "status": "completed"
    },
    "tags": []
   },
   "outputs": [],
   "source": [
    "# Placing the normalize values in a new column\n",
    "df['YearsCodePro_Zscore'] = (df['YearsCodePro'] - df['YearsCodePro'].mean()) / df['YearsCodePro'].std()"
   ]
  },
  {
   "cell_type": "code",
   "execution_count": 24,
   "id": "8d8f3e76",
   "metadata": {
    "execution": {
     "iopub.execute_input": "2025-09-01T21:56:43.173014Z",
     "iopub.status.busy": "2025-09-01T21:56:43.172690Z",
     "iopub.status.idle": "2025-09-01T21:56:43.183426Z",
     "shell.execute_reply": "2025-09-01T21:56:43.182587Z"
    },
    "papermill": {
     "duration": 0.023883,
     "end_time": "2025-09-01T21:56:43.185090",
     "exception": false,
     "start_time": "2025-09-01T21:56:43.161207",
     "status": "completed"
    },
    "tags": []
   },
   "outputs": [
    {
     "data": {
      "text/html": [
       "<div>\n",
       "<style scoped>\n",
       "    .dataframe tbody tr th:only-of-type {\n",
       "        vertical-align: middle;\n",
       "    }\n",
       "\n",
       "    .dataframe tbody tr th {\n",
       "        vertical-align: top;\n",
       "    }\n",
       "\n",
       "    .dataframe thead th {\n",
       "        text-align: right;\n",
       "    }\n",
       "</style>\n",
       "<table border=\"1\" class=\"dataframe\">\n",
       "  <thead>\n",
       "    <tr style=\"text-align: right;\">\n",
       "      <th></th>\n",
       "      <th>YearsCodePro_Zscore</th>\n",
       "      <th>YearsCodePro</th>\n",
       "    </tr>\n",
       "  </thead>\n",
       "  <tbody>\n",
       "    <tr>\n",
       "      <th>1</th>\n",
       "      <td>0.812509</td>\n",
       "      <td>17.0</td>\n",
       "    </tr>\n",
       "    <tr>\n",
       "      <th>2</th>\n",
       "      <td>2.010883</td>\n",
       "      <td>27.0</td>\n",
       "    </tr>\n",
       "    <tr>\n",
       "      <th>3</th>\n",
       "      <td>-0.026352</td>\n",
       "      <td>10.0</td>\n",
       "    </tr>\n",
       "    <tr>\n",
       "      <th>4</th>\n",
       "      <td>-0.026352</td>\n",
       "      <td>10.0</td>\n",
       "    </tr>\n",
       "    <tr>\n",
       "      <th>5</th>\n",
       "      <td>-0.026352</td>\n",
       "      <td>10.0</td>\n",
       "    </tr>\n",
       "  </tbody>\n",
       "</table>\n",
       "</div>"
      ],
      "text/plain": [
       "   YearsCodePro_Zscore  YearsCodePro\n",
       "1             0.812509          17.0\n",
       "2             2.010883          27.0\n",
       "3            -0.026352          10.0\n",
       "4            -0.026352          10.0\n",
       "5            -0.026352          10.0"
      ]
     },
     "execution_count": 24,
     "metadata": {},
     "output_type": "execute_result"
    }
   ],
   "source": [
    "# Compare the normalized and original values\n",
    "df[['YearsCodePro_Zscore', 'YearsCodePro']].head()"
   ]
  },
  {
   "cell_type": "markdown",
   "id": "6b9fdffd",
   "metadata": {
    "papermill": {
     "duration": 0.010703,
     "end_time": "2025-09-01T21:56:43.206560",
     "exception": false,
     "start_time": "2025-09-01T21:56:43.195857",
     "status": "completed"
    },
    "tags": []
   },
   "source": [
    "## Other Techniques"
   ]
  },
  {
   "cell_type": "markdown",
   "id": "a31e6c99",
   "metadata": {
    "papermill": {
     "duration": 0.010286,
     "end_time": "2025-09-01T21:56:43.228094",
     "exception": false,
     "start_time": "2025-09-01T21:56:43.217808",
     "status": "completed"
    },
    "tags": []
   },
   "source": [
    "### Binning\n",
    "\n",
    "Creating a new column: 'ExperienceLevel' based on the 'YearsCodePro' Column"
   ]
  },
  {
   "cell_type": "code",
   "execution_count": 25,
   "id": "22db2fbb",
   "metadata": {
    "execution": {
     "iopub.execute_input": "2025-09-01T21:56:43.251516Z",
     "iopub.status.busy": "2025-09-01T21:56:43.251226Z",
     "iopub.status.idle": "2025-09-01T21:56:43.264948Z",
     "shell.execute_reply": "2025-09-01T21:56:43.263753Z"
    },
    "papermill": {
     "duration": 0.028171,
     "end_time": "2025-09-01T21:56:43.266876",
     "exception": false,
     "start_time": "2025-09-01T21:56:43.238705",
     "status": "completed"
    },
    "tags": []
   },
   "outputs": [],
   "source": [
    "# Create the ranges and labels\n",
    "ranges = [0, 3, 5, 8, 10, 100]\n",
    "\n",
    "# Store the names for each range\n",
    "range_labels = ['Entry', 'Mid', 'Senior', 'Lead', 'Architect']\n",
    "\n",
    "# Using the function cut to apply the bins\n",
    "df['ExperienceLevel'] = pd.cut(df['YearsCodePro'], bins = ranges, labels = range_labels, include_lowest=True, ordered=False)"
   ]
  },
  {
   "cell_type": "code",
   "execution_count": 26,
   "id": "245c8127",
   "metadata": {
    "execution": {
     "iopub.execute_input": "2025-09-01T21:56:43.291193Z",
     "iopub.status.busy": "2025-09-01T21:56:43.290891Z",
     "iopub.status.idle": "2025-09-01T21:56:43.306603Z",
     "shell.execute_reply": "2025-09-01T21:56:43.305389Z"
    },
    "papermill": {
     "duration": 0.030439,
     "end_time": "2025-09-01T21:56:43.308711",
     "exception": false,
     "start_time": "2025-09-01T21:56:43.278272",
     "status": "completed"
    },
    "tags": []
   },
   "outputs": [
    {
     "data": {
      "text/html": [
       "<div>\n",
       "<style scoped>\n",
       "    .dataframe tbody tr th:only-of-type {\n",
       "        vertical-align: middle;\n",
       "    }\n",
       "\n",
       "    .dataframe tbody tr th {\n",
       "        vertical-align: top;\n",
       "    }\n",
       "\n",
       "    .dataframe thead th {\n",
       "        text-align: right;\n",
       "    }\n",
       "</style>\n",
       "<table border=\"1\" class=\"dataframe\">\n",
       "  <thead>\n",
       "    <tr style=\"text-align: right;\">\n",
       "      <th></th>\n",
       "      <th>YearsCodePro</th>\n",
       "      <th>ExperienceLevel</th>\n",
       "    </tr>\n",
       "  </thead>\n",
       "  <tbody>\n",
       "    <tr>\n",
       "      <th>39276</th>\n",
       "      <td>2.0</td>\n",
       "      <td>Entry</td>\n",
       "    </tr>\n",
       "    <tr>\n",
       "      <th>2944</th>\n",
       "      <td>13.0</td>\n",
       "      <td>Architect</td>\n",
       "    </tr>\n",
       "    <tr>\n",
       "      <th>64994</th>\n",
       "      <td>19.0</td>\n",
       "      <td>Architect</td>\n",
       "    </tr>\n",
       "    <tr>\n",
       "      <th>39938</th>\n",
       "      <td>1.0</td>\n",
       "      <td>Entry</td>\n",
       "    </tr>\n",
       "    <tr>\n",
       "      <th>34270</th>\n",
       "      <td>9.0</td>\n",
       "      <td>Lead</td>\n",
       "    </tr>\n",
       "    <tr>\n",
       "      <th>14389</th>\n",
       "      <td>10.0</td>\n",
       "      <td>Lead</td>\n",
       "    </tr>\n",
       "    <tr>\n",
       "      <th>22694</th>\n",
       "      <td>5.0</td>\n",
       "      <td>Mid</td>\n",
       "    </tr>\n",
       "    <tr>\n",
       "      <th>30319</th>\n",
       "      <td>0.0</td>\n",
       "      <td>Entry</td>\n",
       "    </tr>\n",
       "    <tr>\n",
       "      <th>51141</th>\n",
       "      <td>20.0</td>\n",
       "      <td>Architect</td>\n",
       "    </tr>\n",
       "    <tr>\n",
       "      <th>27535</th>\n",
       "      <td>3.0</td>\n",
       "      <td>Entry</td>\n",
       "    </tr>\n",
       "  </tbody>\n",
       "</table>\n",
       "</div>"
      ],
      "text/plain": [
       "       YearsCodePro ExperienceLevel\n",
       "39276           2.0           Entry\n",
       "2944           13.0       Architect\n",
       "64994          19.0       Architect\n",
       "39938           1.0           Entry\n",
       "34270           9.0            Lead\n",
       "14389          10.0            Lead\n",
       "22694           5.0             Mid\n",
       "30319           0.0           Entry\n",
       "51141          20.0       Architect\n",
       "27535           3.0           Entry"
      ]
     },
     "execution_count": 26,
     "metadata": {},
     "output_type": "execute_result"
    }
   ],
   "source": [
    "# Displaying 10 rows\n",
    "df[['YearsCodePro', 'ExperienceLevel']].sample(n = 10, random_state = 42)"
   ]
  },
  {
   "cell_type": "markdown",
   "id": "4662ea0b",
   "metadata": {
    "papermill": {
     "duration": 0.010904,
     "end_time": "2025-09-01T21:56:43.331783",
     "exception": false,
     "start_time": "2025-09-01T21:56:43.320879",
     "status": "completed"
    },
    "tags": []
   },
   "source": [
    "### One-hot Encoding\n",
    "\n"
   ]
  },
  {
   "cell_type": "code",
   "execution_count": 27,
   "id": "82f44ee0",
   "metadata": {
    "execution": {
     "iopub.execute_input": "2025-09-01T21:56:43.358132Z",
     "iopub.status.busy": "2025-09-01T21:56:43.357788Z",
     "iopub.status.idle": "2025-09-01T21:56:43.370228Z",
     "shell.execute_reply": "2025-09-01T21:56:43.369345Z"
    },
    "papermill": {
     "duration": 0.028509,
     "end_time": "2025-09-01T21:56:43.372154",
     "exception": false,
     "start_time": "2025-09-01T21:56:43.343645",
     "status": "completed"
    },
    "tags": []
   },
   "outputs": [
    {
     "data": {
      "text/plain": [
       "MainBranch\n",
       "I am a developer by profession                                                           46236\n",
       "I am not primarily a developer, but I write code sometimes as part of my work/studies     5956\n",
       "I am learning to code                                                                     3163\n",
       "I code primarily as a hobby                                                               3050\n",
       "I used to be a developer by profession, but no longer am                                  1340\n",
       "Name: count, dtype: int64"
      ]
     },
     "execution_count": 27,
     "metadata": {},
     "output_type": "execute_result"
    }
   ],
   "source": [
    "# Display the values and counts in the MainBranch column\n",
    "df['MainBranch'].value_counts()"
   ]
  },
  {
   "cell_type": "code",
   "execution_count": 28,
   "id": "118e40d3",
   "metadata": {
    "execution": {
     "iopub.execute_input": "2025-09-01T21:56:43.398413Z",
     "iopub.status.busy": "2025-09-01T21:56:43.398145Z",
     "iopub.status.idle": "2025-09-01T21:56:43.415017Z",
     "shell.execute_reply": "2025-09-01T21:56:43.414105Z"
    },
    "papermill": {
     "duration": 0.032088,
     "end_time": "2025-09-01T21:56:43.416578",
     "exception": false,
     "start_time": "2025-09-01T21:56:43.384490",
     "status": "completed"
    },
    "tags": []
   },
   "outputs": [
    {
     "data": {
      "text/html": [
       "<div>\n",
       "<style scoped>\n",
       "    .dataframe tbody tr th:only-of-type {\n",
       "        vertical-align: middle;\n",
       "    }\n",
       "\n",
       "    .dataframe tbody tr th {\n",
       "        vertical-align: top;\n",
       "    }\n",
       "\n",
       "    .dataframe thead th {\n",
       "        text-align: right;\n",
       "    }\n",
       "</style>\n",
       "<table border=\"1\" class=\"dataframe\">\n",
       "  <thead>\n",
       "    <tr style=\"text-align: right;\">\n",
       "      <th></th>\n",
       "      <th>ProDeveloper</th>\n",
       "      <th>Learner</th>\n",
       "      <th>OccasionalCoder</th>\n",
       "      <th>HobbyCoder</th>\n",
       "      <th>FormerDev</th>\n",
       "    </tr>\n",
       "  </thead>\n",
       "  <tbody>\n",
       "    <tr>\n",
       "      <th>1</th>\n",
       "      <td>True</td>\n",
       "      <td>False</td>\n",
       "      <td>False</td>\n",
       "      <td>False</td>\n",
       "      <td>False</td>\n",
       "    </tr>\n",
       "    <tr>\n",
       "      <th>2</th>\n",
       "      <td>True</td>\n",
       "      <td>False</td>\n",
       "      <td>False</td>\n",
       "      <td>False</td>\n",
       "      <td>False</td>\n",
       "    </tr>\n",
       "    <tr>\n",
       "      <th>3</th>\n",
       "      <td>False</td>\n",
       "      <td>True</td>\n",
       "      <td>False</td>\n",
       "      <td>False</td>\n",
       "      <td>False</td>\n",
       "    </tr>\n",
       "    <tr>\n",
       "      <th>4</th>\n",
       "      <td>True</td>\n",
       "      <td>False</td>\n",
       "      <td>False</td>\n",
       "      <td>False</td>\n",
       "      <td>False</td>\n",
       "    </tr>\n",
       "    <tr>\n",
       "      <th>5</th>\n",
       "      <td>False</td>\n",
       "      <td>False</td>\n",
       "      <td>False</td>\n",
       "      <td>True</td>\n",
       "      <td>False</td>\n",
       "    </tr>\n",
       "  </tbody>\n",
       "</table>\n",
       "</div>"
      ],
      "text/plain": [
       "   ProDeveloper  Learner  OccasionalCoder  HobbyCoder  FormerDev\n",
       "1          True    False            False       False      False\n",
       "2          True    False            False       False      False\n",
       "3         False     True            False       False      False\n",
       "4          True    False            False       False      False\n",
       "5         False    False            False        True      False"
      ]
     },
     "execution_count": 28,
     "metadata": {},
     "output_type": "execute_result"
    }
   ],
   "source": [
    "# Using the method get_dummies to encode the MainBranch column\n",
    "# Values only consist of True or False\n",
    "# Rename the columns for better readability\n",
    "df_encoded = pd.get_dummies(df['MainBranch'])\n",
    "df_encoded.columns = ['ProDeveloper', 'Learner', 'OccasionalCoder', 'HobbyCoder', 'FormerDev']\n",
    "df_encoded.head()"
   ]
  },
  {
   "cell_type": "code",
   "execution_count": 29,
   "id": "4a8f4c1e",
   "metadata": {
    "execution": {
     "iopub.execute_input": "2025-09-01T21:56:43.440064Z",
     "iopub.status.busy": "2025-09-01T21:56:43.439748Z",
     "iopub.status.idle": "2025-09-01T21:56:43.478299Z",
     "shell.execute_reply": "2025-09-01T21:56:43.477252Z"
    },
    "papermill": {
     "duration": 0.05227,
     "end_time": "2025-09-01T21:56:43.480098",
     "exception": false,
     "start_time": "2025-09-01T21:56:43.427828",
     "status": "completed"
    },
    "tags": []
   },
   "outputs": [],
   "source": [
    "# Adding the new encoded values to the dataframe\n",
    "new_df = pd.concat([df, df_encoded], axis = 1)"
   ]
  },
  {
   "cell_type": "markdown",
   "id": "783561f6",
   "metadata": {
    "papermill": {
     "duration": 0.01127,
     "end_time": "2025-09-01T21:56:43.502799",
     "exception": false,
     "start_time": "2025-09-01T21:56:43.491529",
     "status": "completed"
    },
    "tags": []
   },
   "source": [
    "## Exporting the Dataframe to a CSV "
   ]
  },
  {
   "cell_type": "code",
   "execution_count": 30,
   "id": "8a5baf16",
   "metadata": {
    "execution": {
     "iopub.execute_input": "2025-09-01T21:56:43.528613Z",
     "iopub.status.busy": "2025-09-01T21:56:43.528282Z",
     "iopub.status.idle": "2025-09-01T21:56:45.377264Z",
     "shell.execute_reply": "2025-09-01T21:56:45.376062Z"
    },
    "papermill": {
     "duration": 1.863433,
     "end_time": "2025-09-01T21:56:45.379175",
     "exception": false,
     "start_time": "2025-09-01T21:56:43.515742",
     "status": "completed"
    },
    "tags": []
   },
   "outputs": [],
   "source": [
    "df.to_csv(\"clean_survey_data.csv\", index = False)"
   ]
  }
 ],
 "metadata": {
  "kaggle": {
   "accelerator": "none",
   "dataSources": [
    {
     "datasetId": 8184950,
     "sourceId": 12934488,
     "sourceType": "datasetVersion"
    }
   ],
   "dockerImageVersionId": 31089,
   "isGpuEnabled": false,
   "isInternetEnabled": true,
   "language": "python",
   "sourceType": "notebook"
  },
  "kernelspec": {
   "display_name": "Python 3",
   "language": "python",
   "name": "python3"
  },
  "language_info": {
   "codemirror_mode": {
    "name": "ipython",
    "version": 3
   },
   "file_extension": ".py",
   "mimetype": "text/x-python",
   "name": "python",
   "nbconvert_exporter": "python",
   "pygments_lexer": "ipython3",
   "version": "3.11.13"
  },
  "papermill": {
   "default_parameters": {},
   "duration": 22.588029,
   "end_time": "2025-09-01T21:56:46.111430",
   "environment_variables": {},
   "exception": null,
   "input_path": "__notebook__.ipynb",
   "output_path": "__notebook__.ipynb",
   "parameters": {},
   "start_time": "2025-09-01T21:56:23.523401",
   "version": "2.6.0"
  }
 },
 "nbformat": 4,
 "nbformat_minor": 5
}
